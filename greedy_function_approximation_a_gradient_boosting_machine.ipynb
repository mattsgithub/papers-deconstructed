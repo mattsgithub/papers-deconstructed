{
 "cells": [
  {
   "cell_type": "markdown",
   "id": "c21d290f-8915-4268-9f9b-0fdf28aa1fed",
   "metadata": {},
   "source": [
    "# PAPERS DECONSTRUCTED\n",
    "## Title: Greedy Function Approximation: A Gradient Boosting Machine\n",
    "### Authors: Jerome H. Friedman\n",
    "Link: https://projecteuclid.org/journals/annals-of-statistics/volume-29/issue-5/Greedy-function-approximation-A-gradient-boostingmachine/10.1214/aos/1013203451.full\n",
    "\n",
    "*Papers deconstructed* are a result of my frustration when reading papers and walking away with a fuzzy understanding. By folding in commentary, Python code implementations, I aim to make the paper much more understandstable to all. I also find it really fun :)"
   ]
  },
  {
   "cell_type": "code",
   "execution_count": 310,
   "id": "79267e60-984d-458b-84fe-a399ffe0b780",
   "metadata": {},
   "outputs": [],
   "source": [
    "from IPython.display import Image\n",
    "import matplotlib.pyplot as plt\n",
    "import numpy as np"
   ]
  },
  {
   "cell_type": "markdown",
   "id": "dbebfdb6-ead1-4e5f-a27e-d26c7d41f790",
   "metadata": {},
   "source": [
    "# Abstract"
   ]
  },
  {
   "cell_type": "markdown",
   "id": "16513821-f8d9-40df-a23f-038cb12b2dd0",
   "metadata": {},
   "source": [
    "> <i>Function estimation/approximation is viewed from the perspective of\n",
    "numerical optimization in function space, rather than parameter space</i>\n",
    "\n",
    "Instead of optimizing for a parameter value (like the slope value in linear regression), we are optimizing for a function directly. This is unusual. ML algorithms are typically designed to optimize over parameter values, not functions directly. We typically calculate something like $\\frac{\\partial J}{\\partial \\theta}$ (where J is the cost function and $\\theta$ is a parameter value) but here we are calculating something like $\\frac{\\partial J}{\\partial f(x)}$. We take a derivative with respect to a function!"
   ]
  },
  {
   "cell_type": "markdown",
   "id": "205b952c-4692-488e-9c0d-3456f40c5b4b",
   "metadata": {},
   "source": [
    "> <i>A connection is made between stagewise additive expansions and steepest descent minimization.</i>\n",
    "\n",
    "_steepest-descent minimization_ is not the same as _gradient descent_. See this <a href=\"https://stats.stackexchange.com/a/322177/30545\">link</a>. The link also includes a <a href=\"http://www.math.usm.edu/math/lambers/mat419/lecture10.pdf\">reference</a> that's helpful. Steepest-descent minimization is a special case of gradient descent. Gradient descent is using knowledge of the gradient to choose where to step next. But _how_ you take a step, leads you to specific algorithms (such as steepest-descent).\n",
    "\n",
    "In steepest-descent, the goal is to find a $\\alpha$ that minimizes $g$:\n",
    "\n",
    "$g({\\alpha}) = f(x_{t-1} - \\alpha \\nabla f(x_{t-1})) \\;\\;\\; \\alpha \\ge 0$\n",
    "\n",
    "I'm not a numerical specialist, but there's a tradeoff here. While we are exact (as opposed to using a fixed step size), this requires solving an additional optimization problem at each step. I would think the tradeoffs are problem specific."
   ]
  },
  {
   "cell_type": "markdown",
   "id": "9fdb7008-b913-4ebb-83bb-372fc0607a89",
   "metadata": {},
   "source": [
    "> <i>A general gradient descent “boosting” paradigm is\n",
    "developed for additive expansions based on any fitting criterion.</i>\n",
    "\n",
    "Additive models are models where can break the model into a sum of models:\n",
    "\n",
    "f(x) = $\\sum_i f_i(x)$\n",
    "\n",
    "Stagewise (say vs stepwise) means we can't go back and edit. Each 'stage' freezes all previous terms. Section **3.3.3 Forward-Stagewise Regression** <a href=\"https://web.stanford.edu/~hastie/ElemStatLearn/\">The Elements of Statistical Learning</a> is helpful.\n",
    "\n",
    "The boosting paradigm mentioned is a reference to Freund and Schapire's <a href=\"https://cseweb.ucsd.edu/~yfreund/papers/IntroToBoosting.pdf\">paper</a> in the late 90s that introduced the AdaBoost algorithm. The idea of boosting is to build a many models in a sequence. Each model learns from the mistakes from the previous model.\n",
    "\n",
    "By \"any fitting criterion\" means that this works (essentially) for any loss function."
   ]
  },
  {
   "cell_type": "markdown",
   "id": "d0ab1dfc-2da5-4fd2-89ea-67fa7d3d63de",
   "metadata": {},
   "source": [
    "> <i>Specific algorithms are presented for least-squares, least absolute deviation, and\n",
    "Huber-M loss functions for regression, and multiclass logistic likelihood\n",
    "for classification</i>\n",
    "\n",
    "Let's show what each of these losses look like mathematically and implemented in code:"
   ]
  },
  {
   "cell_type": "markdown",
   "id": "17ae5fd2-a28f-4760-ae93-4b73ca1ceeb4",
   "metadata": {},
   "source": [
    "**least-squares loss**\n",
    "\n",
    "$l(y, f) = \\frac{1}{2} (y - f)^2$"
   ]
  },
  {
   "cell_type": "code",
   "execution_count": 311,
   "id": "28181974-64b4-4e2e-b2c6-0a8a038c277e",
   "metadata": {},
   "outputs": [
    {
     "data": {
      "text/plain": [
       "array([5.000e-05, 4.500e-04, 1.250e-03, 2.450e-03, 4.050e-03, 6.050e-03,\n",
       "       8.450e-03, 1.125e-02, 1.445e-02, 1.805e-02])"
      ]
     },
     "execution_count": 311,
     "metadata": {},
     "output_type": "execute_result"
    }
   ],
   "source": [
    "def least_squares(y_true, y_pred):\n",
    "    return 0.5 * (y_true - y_pred)**2\n",
    "\n",
    "# Labels\n",
    "y = [1, 1, 0, 1, 0]\n",
    "\n",
    "# True function\n",
    "f_star = lambda x: x**2\n",
    "\n",
    "# Estimated function\n",
    "# (here, we introduce a little bit of error)\n",
    "f = lambda x: (x + 0.1)**2\n",
    "\n",
    "# Points to evaluate over\n",
    "x = np.arange(0, 1, step=0.1)\n",
    "\n",
    "# In practice, we'd take the average of this\n",
    "# and try to minimize the average. You will\n",
    "# see that in this paper\n",
    "least_squares(f_star(x), f(x))"
   ]
  },
  {
   "cell_type": "markdown",
   "id": "cef921bf-ace0-44e5-9d58-bc1bb07fa3fc",
   "metadata": {},
   "source": [
    "**least-absolute deviation**\n",
    "\n",
    "$l(y, f) = |y - f|$"
   ]
  },
  {
   "cell_type": "code",
   "execution_count": 316,
   "id": "a9664703-59b6-44ca-b8db-90e043128314",
   "metadata": {},
   "outputs": [
    {
     "data": {
      "text/plain": [
       "array([0.01, 0.03, 0.05, 0.07, 0.09, 0.11, 0.13, 0.15, 0.17, 0.19])"
      ]
     },
     "execution_count": 316,
     "metadata": {},
     "output_type": "execute_result"
    }
   ],
   "source": [
    "def least_absolute_deviation(y_true, y_pred):\n",
    "    return np.abs(y_true - y_pred)\n",
    "\n",
    "least_absolute_deviation(f_star(x), f(x))"
   ]
  },
  {
   "cell_type": "markdown",
   "id": "9f06a428-c0f7-4959-9804-8b96e43bfd23",
   "metadata": {},
   "source": [
    "**huber-m**\n",
    "\n",
    "$l(y, f) =  \\frac{1}{2} (y - f)^2 \\;\\;\\; |y - f| \\le \\delta$\n",
    "\n",
    "otherwise:\n",
    "\n",
    "$l(y, f) =  \\delta(|y - f| - \\frac{\\delta}{2})$"
   ]
  },
  {
   "cell_type": "code",
   "execution_count": 313,
   "id": "346ad8d0-0d39-448d-abdf-c4d1f1ee888f",
   "metadata": {},
   "outputs": [
    {
     "data": {
      "text/plain": [
       "array([0.  , 0.01, 0.04, 0.09, 0.16, 0.25, 0.36, 0.49, 0.64, 0.81])"
      ]
     },
     "execution_count": 313,
     "metadata": {},
     "output_type": "execute_result"
    }
   ],
   "source": [
    "def huber(y_true, y_pred, delta):\n",
    "    \n",
    "    # First take difference (do this once)\n",
    "    z = y_true - y_pred\n",
    "    \n",
    "    # Find points which satisfy first condition\n",
    "    z_abs = np.abs(z)\n",
    "    \n",
    "    z_abs = \n",
    "    \n",
    "    # Which points staisfy hte following?\n",
    "    I = np.abs(y_true - y_pred) <= delta\n",
    "    \n",
    "    return y\n",
    "\n",
    "huber(f_star(x), f(x), delta=0.1)"
   ]
  },
  {
   "cell_type": "markdown",
   "id": "44eb4459-c304-4bd0-a34d-440332f95ea7",
   "metadata": {},
   "source": [
    "This is the first time I've come across Huber loss. The paper can be found <a href=\"https://projecteuclid.org/journals/annals-of-mathematical-statistics/volume-35/issue-1/Robust-Estimation-of-a-Location-Parameter/10.1214/aoms/1177703732.full\">here</a>. It seems to be a compromise between least-squares and least-absolute deviation. I'm not sure how $\\delta$ is chosen in practice. \n",
    "    \n",
    "\n",
    "**multi-class logistic likelihood**\n",
    "\n",
    "$l(y, f) = - \\sum_k y_k log p_k$"
   ]
  },
  {
   "cell_type": "code",
   "execution_count": 317,
   "id": "8d4b82bb-9b56-4ae5-8b87-5843f929bfd4",
   "metadata": {},
   "outputs": [
    {
     "data": {
      "text/plain": [
       "array([0.  , 0.01, 0.04, 0.09, 0.16, 0.25, 0.36, 0.49, 0.64, 0.81])"
      ]
     },
     "execution_count": 317,
     "metadata": {},
     "output_type": "execute_result"
    }
   ],
   "source": [
    "def logistic_likelihood(y, f, delta):\n",
    "    return y\n",
    "\n",
    "logistic_likelihood(f_star(x), f(x), delta=0.1)"
   ]
  },
  {
   "cell_type": "markdown",
   "id": "e78ed08d-c1e2-47b9-9024-164ad28e1872",
   "metadata": {},
   "source": [
    "This is a function we use"
   ]
  },
  {
   "cell_type": "markdown",
   "id": "0ee546ec-5dfc-470f-aea8-3448feacd31a",
   "metadata": {},
   "source": [
    "> <i>Special enhancements are derived for the particular case\n",
    "where the individual additive components are regression trees, and tools\n",
    "for interpreting such “TreeBoost” models are presented.</i>\n",
    "\n",
    "They also mention that when the additive model is a decision tree (which they give a special name: \"TreeBoost\") they are able to make specific optimizations."
   ]
  },
  {
   "cell_type": "markdown",
   "id": "9793c429-3d6d-490c-9de0-68a1376e4611",
   "metadata": {},
   "source": [
    "> <i>Gradient boosting of regression trees produces competitive, highly robust, interpretable procedures for both regression and classification, especially appropriate for\n",
    "mining less than clean data. Connections between this approach and the\n",
    "boosting methods of Freund and Shapire and Friedman, Hastie and Tibshirani are discussed.</i>\n",
    "\n",
    "Lastly, they mention how all this ties in with the famous Adaboost algorithm. Which I believe, was the first boosting algorithm developed."
   ]
  },
  {
   "cell_type": "markdown",
   "id": "0524c49b-e99b-428b-b1d4-db7c1c5c03c0",
   "metadata": {},
   "source": [
    "# 1 Function Estimation"
   ]
  },
  {
   "cell_type": "markdown",
   "id": "6d2ee195-4d0c-4839-a113-f4b1fb917367",
   "metadata": {},
   "source": [
    "> <i>In the function estimation or \"predictive learning\" problem, one has a system consisting of a random \"output\" or \"response\" variable y and a set of random \"input\" or \"explanatory\" variables x = {x1...xn}</i>\n",
    "\n",
    "You are given labeled data (i.e., training data)"
   ]
  },
  {
   "cell_type": "markdown",
   "id": "3fbc69fe-e621-4c48-a4f6-e1da3be7b5b5",
   "metadata": {},
   "source": [
    "`Using a “training” sample yi\u0004 xiN\n",
    "1 ofknown \u0004y\u0004 x\u0005-values, the goal is to\n",
    "obtain an estimate or approximation F\u0001\u0004x\u0005, ofthe function F∗\u0004x\u0005 mapping\n",
    "x to y, that minimizes the expected value ofsome specified loss function\n",
    "L\u0004y\u0004 F\u0004x\u0005\u0005 over the joint distribution ofall \u0004y\u0004 x\u0005-values,\n",
    "F∗ = arg minF\n",
    "Ey\u0004 xL\u0004y\u0004 F\u0004x\u0005\u0005 = arg minF\n",
    "Ex\u0007Ey (1) \u0004L\u0004y\u0004 F\u0004x\u0005\u0005\u0005 \b x\t\u0005`\n",
    "\n",
    "$F^{*}(x)$ is the true function. Inknown in practice (unless you are simulating data). But we can observe how inputs are relate to the outputs (i.e., labeled data). $F(x)$ is the function we learn from data. But to do this, we need a measure of how good we are doing. Hence, the loss function:\n",
    "\n",
    "$L(y, F(x)) = L(F^{*}(x), F(x))$.\n",
    "\n",
    "This loss can output a vector in general, but to keep it simple we have it output a scalar (i.e., a real number). Smaller loss is better (less error).\n",
    "\n",
    "We need to compute the loss over each (x,y) pair. And, if the data is extremely dense in some regions\n",
    "\n",
    "A loss will need to be computed for each possible (x,y) pair. And we want to take the average loss (could take the sum, but that can become a very large number quickly). To take an average, divide all x-y space into small little rectangular regions. Now, start sampling from the true function ($F^{*}(x)$). If we record the number of times a point falls in this little region and divide by the number of all points, we get an estimate of $P(x, y)$ for that (x,y) location. The number of points that falled in that region can be recovered by multiplying by its volume (volume = $\\Delta x \\Delta y$). So number of points $ = \\text{probabilty density} * {volume}$\n",
    "\n",
    "If we do bad in regions that never occur, do we care? The idea is to do well in regions that do occur and not only that, but are very likely to occure. That is, we need a function that assigns a probability to each point in x-y space. This is what $P(x, y)$ gives us. It's known as the joint probability distribution.\n",
    "\n",
    "average loss = $\\int_x \\int_y P(x, y) L(y, F(x)) \\, dx dy$\n",
    "\n",
    "You might be used to seeing averages like this:\n",
    "\n",
    "average loss = $\\sum_i \\frac{1}{N}x_i$ but in this case, $\\frac{1}{N}$ is actually a probability. It's saying each point is equally likely. That's why need the probabilty function of $P(x, y)$. Because each pair is not equally likely in the general case. \n",
    "\n",
    "To get the form you see in this paper, I actually answered this many years ago <a href=\"https://math.stackexchange.com/a/623473/118474\">here</a>. But here it is again:\n",
    "\n",
    "$\\int_x \\int_y L(y, F(x)) P(x, y) \\, dx dy$\n",
    "\n",
    "By Bayes' theorem: $P(x, y) = P(x) P(y | x)$\n",
    "\n",
    "Let's substitute\n",
    "\n",
    "$\\int_x \\int_y L(y, F(x))  P(x) P(y | x) \\, dx dy$\n",
    "\n",
    "We can rearrange:\n",
    "\n",
    "$\\int_x P(x) \\big( \\int_y L(y, F(x)) P(y | x) \\, dy \\big) dx$\n",
    "\n",
    "And $\\int_y L(y, F(x)) P(y | x) dy$ is by definition $E_y [L(y, F(x) | x]$\n",
    "\n",
    "so \n",
    "\n",
    "$\\int_x P(x) \\big( E_y [L(y, F(x) | x] \\big) dx$\n",
    "\n",
    "But this is again, another expectation. So now we get:\n",
    "\n",
    "$E_x[E_y [L(y, F(x) | x]]$\n",
    "\n",
    "Hence:\n",
    "\n",
    "$F^* = {\\text{argmin}}_F \\, E_{xy}[L(y, F(x))] = {\\text{argmin}}_F \\, \\int_x \\int_y P(x, y) L(y, F(x)) \\, dx dy$\n",
    "\n"
   ]
  },
  {
   "cell_type": "markdown",
   "id": "f6a9d1a0-628e-4cc5-8f37-fe2c69e26534",
   "metadata": {},
   "source": [
    "`Frequently employed loss functions L\u0004y\u0004 F\u0005 include squared-error \u0004y − F\u00052\n",
    "and absolute error \by − F\b for y ∈ R1 (regression) and negative binomial loglikelihood, log\u00041 + e−2yF\u0005, when y ∈ −1\u0004 1 (classification).`\n",
    "\n",
    "This is telling us specific cases of what $L(y, F(X))$ can be."
   ]
  },
  {
   "cell_type": "markdown",
   "id": "663c0ab8-112b-4fe7-977f-0fd600d346fd",
   "metadata": {},
   "source": [
    "`A common procedure is to restrict F\u0004x\u0005 to be a member ofa parameterized\n",
    "class offunctions F\u0004x P\u0005, where P = P1\u0004 P2\u0004\u0005\u0005\u0005 is a finite set ofparameters\n",
    "whose joint values identify individual class members.`\n",
    "\n",
    "I will give a concrete example here. Take simple linear regression. That takes the form of:\n",
    "\n",
    "$F(x) = b + mx$\n",
    "\n",
    "To rewrite in the notation just given:\n",
    "\n",
    "$F(x) = p_1 + p_2x$\n",
    "\n",
    "So $P = {p_1, p_2}$. Note that we fixed the function (basically) and now seek what the values of $b$ and $m$ are. I say basically because technically, each new set of parameters map out a different function. But all functions are restricted to be linear."
   ]
  },
  {
   "cell_type": "markdown",
   "id": "d7ab351a-5815-4cda-ba13-9c3977be48e7",
   "metadata": {},
   "source": [
    "`In this article we focus on on “additive” expansions ofthe form\n",
    "F\u0004x βm\u0004 amM\n",
    "1 \u0005 =\n",
    "M\n",
    "m=1\n",
    "(2) βmh\u0004x am\u0005\u0005`\n",
    "\n",
    "This additive expansion is saying, we have `m` \"mini\" models that get added together. Each multiplied by a weight ($\\beta_m$. The $m$ denotes which mini-model we are referring to). Each mini-model is denoted as $h(x; a_m)$. The $a_m$ is telling us each mini-model itself has a set of parameters that need to be estimated from data. And these mini-models do not need to share parameters (would be interesting if a technique was developed where some of the mini-models _could_ share parameters).\n",
    "\n",
    "$h(x; a_m)$ can be a Decision tree, a naive bayes model, etc. IN the package XGBoost this min-model is referred to as the \"booster\". This is exactly what the next lines are saying:"
   ]
  },
  {
   "cell_type": "markdown",
   "id": "47f634b4-df4e-45eb-a775-b4d77fe9774d",
   "metadata": {},
   "source": [
    "`The (generic) function h\u0004x a\u0005 in (2) is usually a simple parameterized function ofthe input variables x, characterized by parameters a = a1\u0004 a2\u0004\u0005\u0005\u0005. The individual terms differ in the joint values am chosen for these parameters.`\n",
    "\n",
    "Yep. Each model will estimate $a_m$ to have different values than the others."
   ]
  },
  {
   "cell_type": "markdown",
   "id": "f7d2eacd-e47f-4ac9-99af-752dbd2389d2",
   "metadata": {},
   "source": [
    "`Such expansions (2) are at the heart of many function approximation methods such as neural networks [Rumelhart, Hinton, and Williams (1986)], radial\n",
    "basis functions [Powell (1987)], MARS [Friedman (1991)], wavelets [Donoho\n",
    "(1993)] and support vector machines [Vapnik (1995)]. Of special interest here\n",
    "is the case where each ofthe functions h\u0004x am\u0005 is a small regression tree,\n",
    "such as those produced by CART TM [Breiman, Friedman, Olshen and Stone\n",
    "(1983)]. For a regression tree the parameters am are the splitting variables,\n",
    "split locations and the terminal node means ofthe individual trees.`"
   ]
  },
  {
   "cell_type": "markdown",
   "id": "306c4ffa-f9ec-42ec-a25f-11b52ba049b1",
   "metadata": {},
   "source": [
    "They mention a bunch of ML models where this type of additive model is applicable. But the one of interest here, is the regression tree (i.e., decision tree). To parameterize this tree, at each node we have to choose a variable and a split point for that variable. So here they are saying that $a_m$ will denote the feature chosen for each node and its split point. We can count the number of parameters. At depth $l$ we will have $2^l$ nodes. So there are:\n",
    "\n",
    "$\\text{number of decision nodes} = \\sum_l^{D} 2^l$ where $D$ is the max depth\n",
    "\n",
    "$\\sum_l^{D} 2^l = 2^{D + 1} - 1$ (see <a href=\"https://math.stackexchange.com/a/1990146/118474\">proof</a>)\n",
    "\n",
    "And two parameters for each node (which variable and its split point):\n",
    "\n",
    "$ 2 * (2^{D + 1} - 1) = 2^{D + 2} - 2$\n",
    "\n",
    "I've built models in practice with depths reaching over 10 (even up to 15). So with $D = 15$ we get $131070$ parameters for a single decision tree!"
   ]
  },
  {
   "cell_type": "code",
   "execution_count": 187,
   "id": "e04ed3dd-4f48-4c4f-90e6-cc1ebecd91e2",
   "metadata": {},
   "outputs": [
    {
     "data": {
      "text/plain": [
       "131070"
      ]
     },
     "execution_count": 187,
     "metadata": {},
     "output_type": "execute_result"
    }
   ],
   "source": [
    "def get_num_params(max_depth):\n",
    "    n_param = (2**(max_depth + 2) - 2)\n",
    "    n_param_from_longer_calculation = 2 * sum([2**j for j in range(max_depth + 1)])\n",
    "    \n",
    "    # Evidence for proof\n",
    "    assert n_param == n_param_from_longer_calculation\n",
    "    \n",
    "    return n_param\n",
    "\n",
    "get_num_params(max_depth=15)"
   ]
  },
  {
   "cell_type": "markdown",
   "id": "8d354515-bb52-48cb-8f9b-9a7542f93245",
   "metadata": {},
   "source": [
    "`F\u0004x P\u0005 changes the function optimization problem to one of parameter optimization,\n",
    "P∗ = arg minP\n",
    "(3) \u0013\u0004P\u0005\u0004\n",
    "where\n",
    "\u0013\u0004P\u0005 = Ey\u0004 xL\u0004y\u0004 F\u0004x P\u0005\u0005\n",
    "and then\n",
    "F∗\u0004x\u0005 = F\u0004x P∗\u0005\u0005\n",
    "For most F\u0004x P\u0005 and L, numerical optimization methods must be applied to\n",
    "solve (3). This often involves expressing the solution for the parameters in the\n",
    "form\n",
    "P∗ =\n",
    "M\n",
    "m=0\n",
    "(4) pm\u0004\n",
    "where p0 is an initial guess and pmM\n",
    "1 are successive increments (“steps” or\n",
    "“boosts”), each based on the sequence ofpreceding steps. The prescription for\n",
    "computing each step pm is defined by the optimization method.`\n",
    "\n",
    "In neural networks, we leverage gradient descent. The weight parameters get updated at each step by adding a value to them. Sp the final weights learned are a sum of the weight updates from each step. That is: \n",
    "\n",
    "$\\vec{w}_{final} = \\sum_i w_i$\n",
    "\n",
    "We start with an initial guess of parameters ($w_0$) and increment after each step. In the cast of boosting, it's called a boost. But it can really be thought of as a step."
   ]
  },
  {
   "cell_type": "markdown",
   "id": "a1ff3629-30fa-4db8-9e0c-bafbfe1f6a8c",
   "metadata": {},
   "source": [
    "`1.2. Steepest-descent. Steepest-descent is one ofthe simplest ofthe frequently used numerical minimization methods. It defines the increments pmM\n",
    "1\n",
    "(4) as follows. First the current gradient gm is computed: where\n",
    "Pm−1 =\n",
    "m\n",
    "−1\n",
    "i=0\n",
    "pi\u0005\n",
    "The step is taken to be\n",
    "pm = −ρmgm\u0004\n",
    "where\n",
    "ρm = arg minρ (5) \u0013\u0004Pm−1 − ρgm\u0005\u0005\n",
    "The negative gradient −gm is said to define the “steep`\n",
    "\n",
    "Here, we take the gradient of our loss function with respect to the parameter in context (the $jth$ parameter) for the _mth_ model.\n",
    "\n",
    "Let's clear this up with some code. Let's apply steepest descent really quick."
   ]
  },
  {
   "cell_type": "code",
   "execution_count": 205,
   "id": "6f02cefe-6b9e-4fc0-baad-7aac94ce95e4",
   "metadata": {},
   "outputs": [
    {
     "data": {
      "text/plain": [
       "[<matplotlib.lines.Line2D at 0x1174b4d90>]"
      ]
     },
     "execution_count": 205,
     "metadata": {},
     "output_type": "execute_result"
    },
    {
     "data": {
      "image/png": "[encoded data removed]",
      "text/plain": [
       "<Figure size 432x288 with 1 Axes>"
      ]
     },
     "metadata": {
      "needs_background": "light"
     },
     "output_type": "display_data"
    }
   ],
   "source": [
    "# The function we want to minimize\n",
    "def f(w):\n",
    "    return 5*(w + 2)**2\n",
    "\n",
    "# It's gradient\n",
    "def grad_f(w):\n",
    "    return 2 * (w - 5)\n",
    "\n",
    "w = np.arange(-7, 5, step=.1)\n",
    "\n",
    "fig, ax = plt.subplots()\n",
    "ax.plot(w, f(w))"
   ]
  },
  {
   "cell_type": "code",
   "execution_count": 270,
   "id": "166df961-f4d7-4954-8a9c-ab90844c4fab",
   "metadata": {},
   "outputs": [],
   "source": [
    "def do_steepest_descent_step(w, f, grad_f, step_size=1.,\n",
    "                             steepest_descent=False):\n",
    "    \n",
    "    # Evaluate current parameter at gradient\n",
    "    grad = grad_f(w)\n",
    "    print(f'Grad value: {grad}')\n",
    "    \n",
    "    # Dumb brute force approach:\n",
    "    # try a vector of candidates\n",
    "    if steepest_descent:\n",
    "        step_sizes = np.arange(0, 0.3, step=1e-5)\n",
    "        y = f(w - step_sizes * grad)\n",
    "        step_size = step_sizes[np.argmin(y)]\n",
    "        print(f'Best step size: {step_size}')\n",
    "    \n",
    "    # We add \"\"-step_size * grad\"\n",
    "    # to w. So gradient descent is really\n",
    "    # about adding a bunch of values\n",
    "    # until we are dones just like the paper\n",
    "    # points out\n",
    "    \n",
    "    w_new = w - step_size * grad\n",
    "        \n",
    "    return w_new"
   ]
  },
  {
   "cell_type": "code",
   "execution_count": 271,
   "id": "a515d086-ab78-4b07-b481-733585c300f0",
   "metadata": {},
   "outputs": [
    {
     "name": "stdout",
     "output_type": "stream",
     "text": [
      "Step 1\n",
      "w_before=5.0\n",
      "Grad value: 0.0\n",
      "Best step size: 0.0\n",
      "Convergence reached!\n",
      "Final value: 5.0\n"
     ]
    }
   ],
   "source": [
    "w = 5.\n",
    "for i in range(10):\n",
    "    print(f'Step {i + 1}')\n",
    "    print(f'w_before={w}')\n",
    "    w_new = do_steepest_descent_step(w, f, grad_f, steepest_descent=True)\n",
    "    if w == w_new:\n",
    "        print('Convergence reached!')\n",
    "        break\n",
    "    w = w_new\n",
    "    print(f'w_after={w}')\n",
    "    print('')\n",
    "print(f'Final value: {w}')"
   ]
  },
  {
   "cell_type": "markdown",
   "id": "efdedd3a-31b1-44d8-8fc4-981ee67d57f7",
   "metadata": {},
   "source": [
    "`2. Numerical optimization in function space. Here we take a “nonparametric” approach and apply numerical optimization in function space.\n",
    "That is, we consider F\u0004x\u0005 evaluated at each point x to be a “parameter” and\n",
    "seek to minimize`"
   ]
  },
  {
   "cell_type": "markdown",
   "id": "426a04ed-1c35-4870-ad99-25cd2ef49407",
   "metadata": {},
   "source": [
    "# 2 Numerical optimiizing in function space"
   ]
  },
  {
   "cell_type": "markdown",
   "id": "f5b159a1-34ee-46b1-98fb-83b9047a5eb3",
   "metadata": {},
   "source": [
    "`Here we take a “nonparametric” approach and apply numerical optimization in function space.\n",
    "That is, we consider F\u0004x\u0005 evaluated at each point x to be a “parameter” and\n",
    "seek to minimize\n",
    "\u0013\u0004F\u0005 = Ey\u0004 xL\u0004y\u0004 F\u0004x\u0005\u0005 = Ex\u0007Ey\u0004L\u0004y\u0004 F\u0004x\u0005\u0005\u0005 \b x\t\u0004\n",
    "or equivalently,\n",
    "φ\u0004F\u0004x\u0005\u0005 = Ey\u0007L\u0004y\u0004 F\u0004x\u0005\u0005 \b x\t`"
   ]
  },
  {
   "cell_type": "markdown",
   "id": "cf7a4434-fb97-4710-8087-8105488cec70",
   "metadata": {},
   "source": [
    "So the idea is to treat $F(x)$ as a parameter. Earlier we showed that $E_x[E_y [L(y, F(x) | x]]$ But if we are optimizing over for $F(X)$ the only thing that really matter is $E_y [L(y, F(x) | x]$. So to make this explicit, we make a new function called $\\phi$ that takes in the function $F(x)$ and spits out the expected loss averaged over all labels. But this is conditioned on a specific $x$.\n",
    "\n",
    "$\\phi(F(x)) = E_y [L(y, F(x) | x]$"
   ]
  },
  {
   "cell_type": "markdown",
   "id": "36647c6d-57f9-4771-a932-9a5f87575a57",
   "metadata": {},
   "source": [
    "`at each individual x, directly with respect to F\u0004x\u0005. In function space there are\n",
    "an infinite number ofsuch parameters, but in data sets (discussed below) only\n",
    "a finite number F\u0004xi\u0005N\n",
    "1 are involved.`\n",
    "\n",
    "But we have to do this at each $x$ If we treat $F(x)$ as a parameter, how many parameters are there? Well for each data point, there exists one function we seek that lowers the loss. I see no reason why that function must be unique, but there definitely exists a class of functions that is lowest for a given $x$.\n",
    "\n",
    "The process generating the data would typically be continus across $x$. But in practice, we often get a discrete set of (x,y) pairs. So we get $N$ observations."
   ]
  },
  {
   "cell_type": "markdown",
   "id": "94f1410c-2adb-4807-9ea8-81dd31e9a222",
   "metadata": {},
   "source": [
    "`Following the numerical optimization\n",
    "paradigm we take the solution to be\n",
    "F∗\u0004x\u0005 =\n",
    "M\n",
    "m=0\n",
    "fm\u0004x\u0005\u0004\n",
    "where f0\u0004x\u0005 is an initial guess, and fm\u0004x\u0005M\n",
    "1 are incremental functions\n",
    "(“steps” or “boosts”) defined by the optimization method.`\n",
    "\n",
    "So this is a reference back to how gradient descent operates. We continually add values to the parameter. So the same will be done for the function we are learning.\n",
    "\n",
    "$F(x) = \\sum_{m=0} f_m(x)$\n",
    "\n",
    "which is similar to:\n",
    "\n",
    "$\\vec{w}_{final} = \\sum_{i=0} w_i$\n",
    "\n",
    "For parameters we call this \"steps\" and in the context of a function, we call this \"boosts\"."
   ]
  },
  {
   "cell_type": "markdown",
   "id": "6cf1bfe7-5cef-4e12-acb8-09da7af51270",
   "metadata": {},
   "source": [
    "But how do we determine which $f_m$ to use? We rely on the gradient. So we have:\n",
    "\n",
    "$\\phi(F(x)) = E_y [L(y, F(x) | x]$\n",
    "\n",
    "Taking the derivative with respect to $F(x)$:\n",
    "\n",
    "$\\frac{\\partial \\phi(F(x))}{\\partial F(x)} = \\frac{\\partial E_y [L(y, F(x) | x]}{\\partial F(x)}$\n",
    "\n",
    "We evaluate this derivative at $F_{m-1}(x)$\n",
    "\n",
    "And so we add the following increment:\n",
    "\n",
    "$-\\alpha \\frac{\\partial E_y [L(y, F(x) | x]}{\\partial F(x)}$\n",
    "\n",
    ". The alpha is calculated with the line search, we can also set it to a constant (eta parameter in XGBoost)"
   ]
  },
  {
   "cell_type": "markdown",
   "id": "12101dd4-b330-4b07-bcef-372f97ee5c3e",
   "metadata": {},
   "source": [
    "`Assuming sufficient regularity that one can interchange differentiation and\n",
    "integration, this becomes\n",
    "gm\u0004x\u0005 = Ey\n",
    "\u0007∂L\u0004y\u0004 F\u0004x\u0005\u0005\n",
    "∂F\u0004x\u0005 \b x\n",
    "\b\n",
    "F\u0004x\u0005=Fm−1\u0004x\u0005\n",
    "(7) \u0005`\n",
    "\n",
    "TODO: What does assuming sufficient regularity mean?"
   ]
  },
  {
   "cell_type": "markdown",
   "id": "d58fc391-baf3-48f5-8d8b-798b64c1bb88",
   "metadata": {},
   "source": [
    "# 3 Finite Data\n",
    "\n",
    "`This nonparametric approach breaks down when the joint\n",
    "distribution of \u0004y\u0004 x\u0005 is estimated by a finite data sample yi\u0004 xiN\n",
    "1 . In this\n",
    "case Ey\u0007· \b x\t cannot be estimated accurately by its data value at each xi, and\n",
    "even ifit could, one would like to estimate F∗\u0004x\u0005 at x values other than the\n",
    "training sample points. Strength must be borrowed from nearby data points\n",
    "by imposing smoothness on the solution.`\n",
    "\n",
    "There are some problems. How do you estimate a conditional when you have a single data point well? And also, what about points not in the training dataset? Well, we could say something about smoothness. That is, when we start to venture off from a given $x$ things don't change rapidly."
   ]
  },
  {
   "cell_type": "markdown",
   "id": "553d8146-0d69-4cbb-bcbc-2d9ad7c0d3f2",
   "metadata": {},
   "source": [
    "`One way to do this is to assume a\n",
    "parameterized form such as (2) and do parameter optimization as discussed in\n",
    "Section 1.1 to minimize the corresponding data based estimate ofexpectedm`\n",
    "\n",
    "So now the idea is to go back to a parameter optimization problem. The function is assumed to be additive. But we have to estimate each weight for the function and its parameters. Doing this jointly seems really hard when we are adding many such functions. They have a solution for this:"
   ]
  },
  {
   "cell_type": "markdown",
   "id": "e89d678b-50d9-4ade-8d88-7fc642413505",
   "metadata": {},
   "source": [
    "`In situations where this is infeasible one can try a “greedy stagewise”\n",
    "approach. For m = 1\u0004 2\u0004\u0005\u0005\u0005\u0004M,`"
   ]
  },
  {
   "cell_type": "markdown",
   "id": "86639594-4cf9-4de6-ae82-8269741029a7",
   "metadata": {},
   "source": [
    "`and then\n",
    "Fm\u0004x\u0005 = Fm−1 (10) \u0004x\u0005 + βmh\u0004x am\u0005\u0005\n",
    "Note that this stagewise strategy is different from stepwise approaches that\n",
    "readjust previously entered terms when new ones are added.`\n",
    "\n",
    "They reiterate when I had mentioned before. Stagewise vw stepwise. Stagewise just freezes previous terms but stepwise allows for some of them to be adjusted."
   ]
  },
  {
   "cell_type": "code",
   "execution_count": null,
   "id": "36518871-3889-4f9f-88f3-1650f243e6fd",
   "metadata": {},
   "outputs": [],
   "source": []
  }
 ],
 "metadata": {
  "kernelspec": {
   "display_name": "Python 3 (ipykernel)",
   "language": "python",
   "name": "python3"
  },
  "language_info": {
   "codemirror_mode": {
    "name": "ipython",
    "version": 3
   },
   "file_extension": ".py",
   "mimetype": "text/x-python",
   "name": "python",
   "nbconvert_exporter": "python",
   "pygments_lexer": "ipython3",
   "version": "3.9.5"
  }
 },
 "nbformat": 4,
 "nbformat_minor": 5
}
