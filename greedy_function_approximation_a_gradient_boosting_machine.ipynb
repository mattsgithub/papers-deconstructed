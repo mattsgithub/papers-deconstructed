{
 "cells": [
  {
   "cell_type": "markdown",
   "id": "c21d290f-8915-4268-9f9b-0fdf28aa1fed",
   "metadata": {},
   "source": [
    "# PAPERS DECONSTRUCTED\n",
    "## Title: Greedy Function Approximation: A Gradient Boosting Machine\n",
    "### Authors: Jerome H. Friedman\n",
    "Link: https://projecteuclid.org/journals/annals-of-statistics/volume-29/issue-5/Greedy-function-approximation-A-gradient-boostingmachine/10.1214/aos/1013203451.full"
   ]
  },
  {
   "cell_type": "markdown",
   "id": "b172d037-6bec-47b9-bcba-d0c744e7089f",
   "metadata": {},
   "source": [
    "# Executive Summary\n",
    "\n",
    "Most machine learning algorithms by finding the best parameter values for a loss function and training dataset. Gradient descent is typically used to solve this. This works (roughly) as follows:\n",
    "\n",
    "(1) Fetch the true value for the given training example\n",
    "\n",
    "(2) Compute a predicted value for the given training example\n",
    "\n",
    "(3) Compute the loss given the true value and predicted value\n",
    "\n",
    "(4) Compute the gradient of the loss with respect to the parameters\n",
    "\n",
    "In this paper step (2) is left as an unknown and the gradient is _directly_ learned from data instead. This is done by setting up a supervised machine learing problem of the following:\n",
    "\n",
    "Training Dataset = $\\{ (\\tilde{y_i}, x_i) \\}_i^N$ \n",
    "\n",
    "where $\\tilde{y_i}$ is the gradient of the loss with respect to the prediction value evaluated at the _previous_ prediction value. Learning the gradient is repeated at each step."
   ]
  },
  {
   "cell_type": "code",
   "execution_count": 1,
   "id": "79267e60-984d-458b-84fe-a399ffe0b780",
   "metadata": {},
   "outputs": [],
   "source": [
    "from IPython.display import Image\n",
    "import matplotlib.pyplot as plt\n",
    "from sklearn.base import clone\n",
    "import sklearn\n",
    "from sklearn.datasets import make_regression\n",
    "from scipy.special import expit\n",
    "from sklearn.tree import DecisionTreeRegressor\n",
    "from sklearn.linear_model import LinearRegression\n",
    "from sklearn.metrics import mean_squared_error\n",
    "from sklearn import preprocessing\n",
    "import time\n",
    "import numpy as np\n",
    "\n",
    "random_state=22"
   ]
  },
  {
   "cell_type": "markdown",
   "id": "601ab196-ebea-4389-85f8-2e58ea04cf1e",
   "metadata": {},
   "source": [
    "# Full Paper"
   ]
  },
  {
   "cell_type": "markdown",
   "id": "dbebfdb6-ead1-4e5f-a27e-d26c7d41f790",
   "metadata": {},
   "source": [
    "# Abstract"
   ]
  },
  {
   "cell_type": "markdown",
   "id": "16513821-f8d9-40df-a23f-038cb12b2dd0",
   "metadata": {},
   "source": [
    "> <i>Function estimation/approximation is viewed from the perspective of\n",
    "numerical optimization in function space, rather than parameter space</i>\n",
    "\n",
    "Instead of optimizing for a parameter value (like the slope value in linear regression), we are optimizing for a function directly. This is unusual. ML algorithms are typically designed to optimize over parameter values, not functions directly. We typically calculate something like $\\frac{\\partial J}{\\partial \\theta}$ (where J is the cost function and $\\theta$ is a parameter value) but here we are calculating something like $\\frac{\\partial J}{\\partial f(x)}$. We take a derivative with respect to a function!"
   ]
  },
  {
   "cell_type": "markdown",
   "id": "205b952c-4692-488e-9c0d-3456f40c5b4b",
   "metadata": {},
   "source": [
    "> <i>A connection is made between stagewise additive expansions and steepest descent minimization.</i>\n",
    "\n",
    "_steepest-descent minimization_ is not the same as _gradient descent_. See this <a href=\"https://stats.stackexchange.com/a/322177/30545\">link</a>. The link also includes a <a href=\"http://www.math.usm.edu/math/lambers/mat419/lecture10.pdf\">reference</a> that's helpful. Steepest-descent minimization is a special case of gradient descent. Gradient descent is using knowledge of the gradient to choose where to step next. But _how_ you take a step, leads you to specific algorithms (such as steepest-descent).\n",
    "\n",
    "In steepest-descent, the goal is to find a $\\alpha$ that minimizes $g$:\n",
    "\n",
    "$g({\\alpha}) = f(x_{t-1} - \\alpha \\nabla f(x_{t-1})) \\;\\;\\; \\alpha \\ge 0$\n",
    "\n",
    "I'm not a numerical specialist, but there's a tradeoff here. While we are exact (as opposed to using a fixed step size), this requires solving an additional optimization problem at each step. I would think the tradeoffs are problem specific."
   ]
  },
  {
   "cell_type": "markdown",
   "id": "9fdb7008-b913-4ebb-83bb-372fc0607a89",
   "metadata": {},
   "source": [
    "> <i>A general gradient descent “boosting” paradigm is\n",
    "developed for additive expansions based on any fitting criterion.</i>\n",
    "\n",
    "Additive models are models where can break the model into a sum of models:\n",
    "\n",
    "f(x) = $\\sum_i f_i(x)$\n",
    "\n",
    "Stagewise (as opposed to _stepwise_) means we can't go back and edit. Each 'stage' freezes all previous terms. Section **3.3.3 Forward-Stagewise Regression** <a href=\"https://web.stanford.edu/~hastie/ElemStatLearn/\">The Elements of Statistical Learning</a> is helpful.\n",
    "\n",
    "The boosting paradigm mentioned is a reference to Freund and Schapire's <a href=\"https://cseweb.ucsd.edu/~yfreund/papers/IntroToBoosting.pdf\">paper</a> in the late 90s that introduced the AdaBoost algorithm. The idea of boosting is to build a many models in a sequence. Each model learns from the mistakes from the previous model.\n",
    "\n",
    "By \"any fitting criterion\" means that this works (essentially) for any loss function."
   ]
  },
  {
   "cell_type": "markdown",
   "id": "d0ab1dfc-2da5-4fd2-89ea-67fa7d3d63de",
   "metadata": {},
   "source": [
    "> <i>Specific algorithms are presented for least-squares, least absolute deviation, and\n",
    "Huber-M loss functions for regression, and multiclass logistic likelihood\n",
    "for classification</i>\n",
    "\n",
    "Let's show what each of these losses look like mathematically and implemented in code:"
   ]
  },
  {
   "cell_type": "code",
   "execution_count": 2,
   "id": "4ebcdcc4-a0ef-4a90-9b6c-66cd88f491dc",
   "metadata": {},
   "outputs": [],
   "source": [
    "# First, we setup some data to demonstrate each function with\n",
    "\n",
    "# True function\n",
    "f_star = lambda x: x**2\n",
    "\n",
    "# Estimated function\n",
    "# (we introduce a little bit of error)\n",
    "f = lambda x: (x + 0.1)**2\n",
    "\n",
    "# Points to evaluate over\n",
    "x = np.arange(0, .5, step=0.05)"
   ]
  },
  {
   "cell_type": "markdown",
   "id": "17ae5fd2-a28f-4760-ae93-4b73ca1ceeb4",
   "metadata": {},
   "source": [
    "**least-squares loss**\n",
    "\n",
    "$l(y, f) = \\frac{1}{2} (y - f)^2$"
   ]
  },
  {
   "cell_type": "code",
   "execution_count": 3,
   "id": "28181974-64b4-4e2e-b2c6-0a8a038c277e",
   "metadata": {},
   "outputs": [
    {
     "data": {
      "text/plain": [
       "array([5.00e-05, 2.00e-04, 4.50e-04, 8.00e-04, 1.25e-03, 1.80e-03,\n",
       "       2.45e-03, 3.20e-03, 4.05e-03, 5.00e-03])"
      ]
     },
     "execution_count": 3,
     "metadata": {},
     "output_type": "execute_result"
    }
   ],
   "source": [
    "def least_squares(y_true, y_pred):\n",
    "    loss = .5 * (y_true - y_pred)**2\n",
    "    return loss\n",
    "\n",
    "least_squares(f_star(x), f(x))"
   ]
  },
  {
   "cell_type": "markdown",
   "id": "cef921bf-ace0-44e5-9d58-bc1bb07fa3fc",
   "metadata": {},
   "source": [
    "**least-absolute deviation**\n",
    "\n",
    "$l(y, f) = |y - f|$"
   ]
  },
  {
   "cell_type": "code",
   "execution_count": 4,
   "id": "a9664703-59b6-44ca-b8db-90e043128314",
   "metadata": {},
   "outputs": [
    {
     "data": {
      "text/plain": [
       "array([0.01, 0.02, 0.03, 0.04, 0.05, 0.06, 0.07, 0.08, 0.09, 0.1 ])"
      ]
     },
     "execution_count": 4,
     "metadata": {},
     "output_type": "execute_result"
    }
   ],
   "source": [
    "def least_absolute_deviation(y_true, y_pred):\n",
    "    loss = np.abs(y_true - y_pred)\n",
    "    return loss\n",
    "\n",
    "least_absolute_deviation(f_star(x), f(x))"
   ]
  },
  {
   "cell_type": "markdown",
   "id": "9f06a428-c0f7-4959-9804-8b96e43bfd23",
   "metadata": {},
   "source": [
    "**huber-m**\n",
    "\n",
    "if $|y - f| \\le \\delta$ then:\n",
    "\n",
    "$l(y, f) =  \\frac{1}{2} (y - f)^2$\n",
    "\n",
    "else:\n",
    "\n",
    "$l(y, f) =  \\delta(|y - f| - \\frac{\\delta}{2})$\n",
    "\n",
    "This is the first time I had across Huber loss. The paper can be found <a href=\"https://projecteuclid.org/journals/annals-of-mathematical-statistics/volume-35/issue-1/Robust-Estimation-of-a-Location-Parameter/10.1214/aoms/1177703732.full\">here</a>.\n",
    "\n",
    "The \"m\" I believe comes from the term \"m-estimator\". I _think_ the m means \"maximum likelihood type\" estimator. See <a href=\"https://www.statisticalconsultants.co.nz/blog/m-estimators.html\">here</a>. It comes from robust statistical methods. Something I myself would need to learn more about. This function acts as a switch. When the error gets too high it acts as a switch to a loss that doesn't penalize as heavily."
   ]
  },
  {
   "cell_type": "code",
   "execution_count": 5,
   "id": "dd21bf46-c616-4005-aff9-34604511aa66",
   "metadata": {},
   "outputs": [
    {
     "data": {
      "text/plain": [
       "array([5.00e-05, 2.00e-04, 4.50e-04, 8.00e-04, 1.25e-03, 1.80e-03,\n",
       "       2.45e-03, 3.20e-03, 4.05e-03, 5.00e-03])"
      ]
     },
     "execution_count": 5,
     "metadata": {},
     "output_type": "execute_result"
    }
   ],
   "source": [
    "def huber(y_true, y_pred, delta=5.):\n",
    "    z = y_true - y_pred\n",
    "    z_abs = np.abs(z)\n",
    "    loss = np.where(z_abs <= delta, .5 * z**2, delta * (z_abs - delta/2.))\n",
    "    return loss\n",
    "\n",
    "huber(f_star(x), f(x))"
   ]
  },
  {
   "cell_type": "markdown",
   "id": "44eb4459-c304-4bd0-a34d-440332f95ea7",
   "metadata": {},
   "source": [
    "**multi-class logistic likelihood**\n",
    "\n",
    "$l(y, f) = - \\sum_k^{\\text{n_classes}} y_k \\text{log} \\, p_k$\n",
    "\n",
    "The variable k is to iterate over each class. $y_k$ is either 0/1 and $p_k$ is your models outputted \"probability\" for that class. I put the probability in quotes because you don't always get good probabiity estimates in practice.\n",
    "\n",
    "We can write down the special case of a binary label (0/1):\n",
    "\n",
    "$l(y, f) = -  \\big( y_k \\text{log} \\, p_k + (1 - y_k) \\text{log} \\, (1 - p_k) \\big)$\n",
    "\n",
    "This acts as a switch. When the label is 1 we get:\n",
    "\n",
    "$l(y, f) = - \\text{log} \\, p_k$\n",
    "\n",
    "When the label is 0 we get:\n",
    "\n",
    "$l(y, f) = - \\text{log} \\, (1 - p_k)$"
   ]
  },
  {
   "cell_type": "code",
   "execution_count": 6,
   "id": "8d4b82bb-9b56-4ae5-8b87-5843f929bfd4",
   "metadata": {},
   "outputs": [
    {
     "data": {
      "text/plain": [
       "array([0.68815968, 0.68196046, 0.67334717, 0.66238538, 0.64915934,\n",
       "       0.75627179, 0.61634377, 0.59701423, 0.57593942, 0.55329211])"
      ]
     },
     "execution_count": 6,
     "metadata": {},
     "output_type": "execute_result"
    }
   ],
   "source": [
    "def logistic_likelihood(y_true, y_pred, delta):\n",
    "    loss = -(y_true * np.log(y_pred) + (1. - y_true) * np.log(1 - y_pred))\n",
    "    return loss\n",
    "\n",
    "def sigmoid(x):\n",
    "    return 1 / (1 + np.exp(-x))\n",
    "\n",
    "y_true = np.random.randint(0, 2, len(x))\n",
    "\n",
    "# Pass through sigmoid to get a number\n",
    "# between 0 and 1. Acts like a probability\n",
    "y_pred = sigmoid(f(x))\n",
    "\n",
    "logistic_likelihood(y_true, sigmoid(f(x)), delta=0.1)"
   ]
  },
  {
   "cell_type": "markdown",
   "id": "e78ed08d-c1e2-47b9-9024-164ad28e1872",
   "metadata": {},
   "source": [
    "This is a function we use"
   ]
  },
  {
   "cell_type": "markdown",
   "id": "0ee546ec-5dfc-470f-aea8-3448feacd31a",
   "metadata": {},
   "source": [
    "> <i>Special enhancements are derived for the particular case\n",
    "where the individual additive components are regression trees, and tools\n",
    "for interpreting such “TreeBoost” models are presented.</i>\n",
    "\n",
    "They exploit the special case when the additive model is comprised of decision trees--which they then call \"TreeBoost\". Note that <a href=\"https://xgboost.readthedocs.io/en/stable/\">XGBoost</a> by default uses TreeBoost."
   ]
  },
  {
   "cell_type": "markdown",
   "id": "9793c429-3d6d-490c-9de0-68a1376e4611",
   "metadata": {},
   "source": [
    "> <i>Gradient boosting of regression trees produces competitive, highly robust, interpretable procedures for both regression and classification, especially appropriate for\n",
    "mining less than clean data. Connections between this approach and the\n",
    "boosting methods of Freund and Shapire and Friedman, Hastie and Tibshirani are discussed.</i>\n",
    "\n",
    "Lastly, they mention how all this ties in with the Adaboost algorithm (which introduced the idea of boosting)."
   ]
  },
  {
   "cell_type": "markdown",
   "id": "0524c49b-e99b-428b-b1d4-db7c1c5c03c0",
   "metadata": {},
   "source": [
    "# 1 Function Estimation"
   ]
  },
  {
   "cell_type": "markdown",
   "id": "6d2ee195-4d0c-4839-a113-f4b1fb917367",
   "metadata": {},
   "source": [
    "> <i>In the function estimation or \"predictive learning\" problem, one has a system consisting of a random \"output\" or \"response\" variable y and a set of random \"input\" or \"explanatory\" variables $\\bf{x} = \\{x_1, ..., x_n\\}$</i>\n",
    "\n",
    "You are given labeled data (i.e., training data)"
   ]
  },
  {
   "cell_type": "markdown",
   "id": "3fbc69fe-e621-4c48-a4f6-e1da3be7b5b5",
   "metadata": {},
   "source": [
    "><i>Using a “training” sample $\\{y_i, \\bf{x_i}\\}_{i}^{N}$\n",
    "1 of known $(y, \\bf{x})$-values, the goal is to\n",
    "obtain an estimate or approximation $\\hat{F}(\\bf{x})$, of the function $F^{*}(x)$ mapping $\\bf{x}$ to y, that minimizes the expected value of some specified loss function\n",
    "$L(y, F(\\bf{x}))$ over the joint distribution of all ($y, \\bf{x})$-values,\n",
    "<br/>\n",
    "<br/>\n",
    "$F^* = \\text{argmin}_F E_{y, \\bf{x}} L(y, F(\\bf{x})) = \\text{argmin}_F E_x [E_y(L(y, F(\\bf{x}))) | \\bf{x}]$\n",
    "</i>\n",
    "\n",
    "$F^{*}(x)$ is the true function. Unknown in practice (unless you are simulating data). But we can observe how inputs are relate to the outputs via labeled data. $F(x)$ is the function we learn from data. But to do learning, we need a measure of how good we are doing. Hence, the loss function:\n",
    "\n",
    "$L(y, F(x)) = L(F^{*}(x), F(x))$.\n",
    "\n",
    "A smaller loss value is better--less prediction error. We must compute the loss over each $(\\vec{x},y)$ pair. When the losses can be computed in parallel, we call that a univariate loss function. The opposite of this are multivariate losses. For example, see work done by Thorsten <a href=\"https://www.cs.cornell.edu/people/tj/publications/joachims_05a.pdf\">here</a>. Multivariate losses are used (for example) when designing a ranking algorithm.\n",
    "\n",
    "We want to summarize all these losses. A way to do this is to take a sum or an average. Typically the average loss is used.\n",
    "\n",
    "To get the form you see in this paper, I actually answered this many years ago <a href=\"https://math.stackexchange.com/a/623473/118474\">here</a>. But here it is again:\n",
    "\n",
    "$\\text{Expected Loss} = \\int_x \\int_y L(y, F(x)) P(x, y) \\, dx dy$\n",
    "\n",
    "By Bayes' theorem: $P(x, y) = P(x) P(y | x)$\n",
    "\n",
    "Let's substitute\n",
    "\n",
    "$\\int_x \\int_y L(y, F(x))  P(x) P(y | x) \\, dx dy$\n",
    "\n",
    "We can rearrange:\n",
    "\n",
    "$\\int_x P(x) \\big( \\int_y L(y, F(x)) P(y | x) \\, dy \\big) dx$\n",
    "\n",
    "And $\\int_y L(y, F(x)) P(y | x) dy$ is by definition $E_y [L(y, F(x) | x]$\n",
    "\n",
    "so \n",
    "\n",
    "$\\int_x P(x) \\big( E_y [L(y, F(x) | x] \\big) dx$\n",
    "\n",
    "But this is again, another expectation. So now we get:\n",
    "\n",
    "$E_x[E_y [L(y, F(x) | x]]$\n",
    "\n",
    "Hence:\n",
    "\n",
    "$F^* = {\\text{argmin}}_F \\, E_{xy}[L(y, F(x))] = {\\text{argmin}}_F \\, \\int_x \\int_y P(x, y) L(y, F(x)) \\, dx dy$"
   ]
  },
  {
   "cell_type": "markdown",
   "id": "f6a9d1a0-628e-4cc5-8f37-fe2c69e26534",
   "metadata": {},
   "source": [
    "> <i>Frequently employed loss functions $L(y, F)$ include squared-error $(y − F^2)$ and absolute error $|y − F|$ for $y \\in R^1$ (regression) and negative binomial loglikelihood, $log(1 + e^{−2yF}$, when $y \\in \\{−1, 1\\}$ (classification).</i>\n",
    "\n",
    "This is telling us specific cases of what $L(y, F(X))$ can be."
   ]
  },
  {
   "cell_type": "markdown",
   "id": "663c0ab8-112b-4fe7-977f-0fd600d346fd",
   "metadata": {},
   "source": [
    "> <i>A common procedure is to restrict $F(\\bf{x})$ to be a member of a parameterized class of functions $F(\\bf{x}; \\bf{P})$, where $P = \\{P_1, P_2, ...\\}$ is a finite set of parameters whose joint values identify individual class members.</i>\n",
    "\n",
    "I will give a concrete example here. Take simple linear regression. Its takes the form of:\n",
    "\n",
    "$F(x) = b + mx$\n",
    "\n",
    "To rewrite in the notation just given:\n",
    "\n",
    "$F(x; \\bf{P} ) = p_1 + p_2 x$\n",
    "\n",
    "So $P = \\{p_1, p_2\\}$. Note that we fixed the function (basically) and now seek what the values of $b$ and $m$ are. I say basically because technically, each new set of parameters map out a different function, but the models _structure_ remains the same (i.e., linear form)."
   ]
  },
  {
   "cell_type": "markdown",
   "id": "d7ab351a-5815-4cda-ba13-9c3977be48e7",
   "metadata": {},
   "source": [
    "> <i>In this article we focus on \"additive\" expansions of the form $F(\\bf{x}; \\{\\beta_m, \\bf{a}_m\\}_1^M) = \\sum_m \\beta_m h(\\bf{x}; \\bf{a}_m)$</i>\n",
    "\n",
    "This additive expansion is saying, we have $m$ models that get added together. Each multiplied by a weight of $\\beta_m$. (The $m$ denotes which model we are referring to--there are $m$ of them). Each model is denoted as $h(x; a_m)$. The $a_m$ is telling us each model itself has a set of parameters that need to be estimated from data. And these models do not share parameters (would be interesting to think of use-cases where parameter sharing might be beneficial). Also, I see no reason why each model must keep the same structural form (decision tree vs naive bayes). But in practice, and even in this paper, $h(x; a_m)$ is left to be a decision tree. In the package XGBoost for example, $h(x; a_m)$ is referred to as the _booster_."
   ]
  },
  {
   "cell_type": "markdown",
   "id": "47f634b4-df4e-45eb-a775-b4d77fe9774d",
   "metadata": {},
   "source": [
    "> <i>The (generic) function $h(\\bf{x}, a)$ in (2) is usually a simple parameterized function of the input variables $\\bf{x}$, characterized by parameters $\\bf{a} = \\{a_1, a_2, ... \\}$. The individual terms differ in the joint values $a_m$ chosen for these parameters.</i>\n",
    "\n",
    "Yep. Each model will estimate $a_m$ to have different values than the others."
   ]
  },
  {
   "cell_type": "markdown",
   "id": "306c4ffa-f9ec-42ec-a25f-11b52ba049b1",
   "metadata": {},
   "source": [
    ">  <i>Such expansions (2) are at the heart of many function approximation methods such as neural networks, radial basis functions, wavelets, and support vector machines. Of special interest here is the case where each of the functions $h(\\bf{x}; \\bf{a}_m)$ is a small regression tree, such as those produced in CART. For a regression tree the parameters $\\bf{a}_m$ are the splitting variables, split locations, and the terminal node means of the individual trees.</i>\n",
    "\n",
    "They mention a bunch of ML models where this type of additive model is applicable. But the one of interest here, is the regression tree (i.e., decision tree). To parameterize this tree, at each node we have to choose a variable and a split point for that variable. So here they are saying that $a_m$ will denote the feature chosen for each node and its split point. We can count the number of parameters. At depth $l$ we will have $2^l$ nodes. So there are:\n",
    "\n",
    "$\\text{number of decision nodes} = \\sum_l^{D} 2^l$ where $D$ is the max depth\n",
    "\n",
    "$\\sum_l^{D} 2^l = 2^{D + 1} - 1$ (see <a href=\"https://math.stackexchange.com/a/1990146/118474\">proof</a>)\n",
    "\n",
    "And two parameters for each node (which variable and its split point):\n",
    "\n",
    "$ 2 * (2^{D + 1} - 1) = 2^{D + 2} - 2$\n",
    "\n",
    "I've built models in practice with depths reaching over 10 (even up to 15). So with $D = 15$ we get $131070$ parameters for a single decision tree!"
   ]
  },
  {
   "cell_type": "code",
   "execution_count": 7,
   "id": "e04ed3dd-4f48-4c4f-90e6-cc1ebecd91e2",
   "metadata": {},
   "outputs": [
    {
     "data": {
      "text/plain": [
       "131070"
      ]
     },
     "execution_count": 7,
     "metadata": {},
     "output_type": "execute_result"
    }
   ],
   "source": [
    "def get_num_params(max_depth):\n",
    "    n_param = (2**(max_depth + 2) - 2)\n",
    "    n_param_from_longer_calculation = 2 * sum([2**j for j in range(max_depth + 1)])\n",
    "    \n",
    "    # Evidence for proof\n",
    "    assert n_param == n_param_from_longer_calculation\n",
    "    \n",
    "    return n_param\n",
    "\n",
    "get_num_params(max_depth=15)"
   ]
  },
  {
   "cell_type": "markdown",
   "id": "12b16207-39a8-431b-a1ac-8570e39d604d",
   "metadata": {},
   "source": [
    "# 1.1 Numerical Optimization"
   ]
  },
  {
   "cell_type": "markdown",
   "id": "8d354515-bb52-48cb-8f9b-9a7542f93245",
   "metadata": {},
   "source": [
    "> <i>In general, choosing a parameterized model $F(\\bf{x}; \\bf{P})$ changes the function optimization problem to one of parameter optimization\n",
    "<br />\n",
    "<br />\n",
    "$P^* = \\text{argmin}_P \\Phi(\\bf{P})$\n",
    "<br />\n",
    "<br />\n",
    "where\n",
    "<br />\n",
    "<br />\n",
    "$ \\Phi(P) = E_{y, x} L(y, F(x; P))$\n",
    "<br />\n",
    "<br />\n",
    "and then\n",
    "<br />\n",
    "<br />\n",
    "$ F^*(x) = F(x; P^*)$</i>\n",
    "\n",
    "Yes. In linear regression (for example) we use the loss function of least squares to find the best set of parameters. But the key here is that we fix the structure of the model and optimize over the parameters."
   ]
  },
  {
   "cell_type": "markdown",
   "id": "94e9c338-6e1d-4538-a647-d229e224612f",
   "metadata": {},
   "source": [
    "> <i>For most $F(x; P)$ and L, numerical optimization methods must be applied to solve $P^* = \\text{argmin}_P \\Phi(\\bf{P})$. This often involves expression the solution for the parameters in the form\n",
    "<br />\n",
    "<br />\n",
    "$P^* = \\sum_{m=0}^M p_m$\n",
    "<br />\n",
    "<br />\n",
    "where $p_0$ is the an initial guess and $\\{ p_m\\}_1^M $ are successive increments (\"steps\" or \"boosts\"), each based on the sequence of preceding steps. The precription for computing each step $p_m$ is defined by the optimization method.</i>\n",
    "\n",
    "in neural networks, we leverage gradient descent. The weight parameters get updated at each step by adding a value to them. Sp the final weights learned are a sum of the weight updates from each step. That is: \n",
    "\n",
    "$\\vec{w}_{final} = \\sum_i w_i$\n",
    "\n",
    "We start with an initial guess of parameters ($w_0$) and increment after each step. In the cast of boosting, it's called a boost. But it can really be thought of as a step."
   ]
  },
  {
   "cell_type": "markdown",
   "id": "1d13ad7d-90de-4977-b353-93d10a292445",
   "metadata": {},
   "source": [
    "# 1.2 Stepest-descent"
   ]
  },
  {
   "cell_type": "markdown",
   "id": "a1ff3629-30fa-4db8-9e0c-bafbfe1f6a8c",
   "metadata": {},
   "source": [
    "> <i>Steepest-descent is one of the simplest of the frequently used numerical minimization methods. It defines the increments $\\{p_m\\}_i^M$ as follows. FIrst the current gradient $g_m$ is computed\n",
    "<br />\n",
    "$g_m = \\{g_{jm}\\} = \\{ [\\frac{\\partial \\phi(P)}{\\partial P_j}]_{P = P_{m -1}}\\}$\n",
    "<br />\n",
    "where\n",
    "<br />\n",
    "$P_{m-1} = \\sum_{i = 0}^{m - 1}p_i$\n",
    "<br />\n",
    "The step is taken to be\n",
    "<br />\n",
    "$p_m = -\\rho_m g_m$\n",
    "<br />\n",
    "where\n",
    "<br />\n",
    "$\\rho_ = \\text{argmin}_{\\rho} \\Phi (P_{m -1} - \\rho g_m)$\n",
    "<br />\n",
    "The negative gradient $-g_m$ is said to define the \"steepest-descent\" direction and (5) is called the \"line search\" along that direction.</i>\n",
    "\n",
    "Rememeber, steepest-descent is a special case of gradient descent where the step size ($\\rho$) is taken such that the following function is at its lowest point:\n",
    "\n",
    "$\\Phi (P_{m -1} - \\rho g_m)$\n",
    "\n",
    "For a neural network, $P_{m -1}$ would the weight vector before the update is applied. \n",
    "\n",
    "We take the gradient of our loss function with respect to the parameter in context (the $jth$ parameter) for the _mth_ model.\n",
    "\n",
    "💻 Let's clear this up with some code. For examples sake, I'm going to use a brute force approach and try a bunch of values for the line search."
   ]
  },
  {
   "cell_type": "code",
   "execution_count": 8,
   "id": "6f02cefe-6b9e-4fc0-baad-7aac94ce95e4",
   "metadata": {},
   "outputs": [
    {
     "data": {
      "text/plain": [
       "[<matplotlib.lines.Line2D at 0x11f6c79d0>]"
      ]
     },
     "execution_count": 8,
     "metadata": {},
     "output_type": "execute_result"
    },
    {
     "data": {
      "image/png": "[encoded data removed]",
      "text/plain": [
       "<Figure size 432x288 with 1 Axes>"
      ]
     },
     "metadata": {
      "needs_background": "light"
     },
     "output_type": "display_data"
    }
   ],
   "source": [
    "# The function we want to minimize\n",
    "def f(w):\n",
    "    return 5*(w + 2)**2\n",
    "\n",
    "# It's gradient\n",
    "def grad_f(w):\n",
    "    return 2 * (w - 5)\n",
    "\n",
    "w = np.arange(-7, 5, step=.1)\n",
    "\n",
    "fig, ax = plt.subplots()\n",
    "ax.plot(w, f(w))"
   ]
  },
  {
   "cell_type": "code",
   "execution_count": 9,
   "id": "166df961-f4d7-4954-8a9c-ab90844c4fab",
   "metadata": {},
   "outputs": [],
   "source": [
    "def do_steepest_descent_step(w, f, grad_f, step_size=1.,\n",
    "                             steepest_descent=False):\n",
    "    \n",
    "    # Evaluate current parameter at gradient\n",
    "    grad = grad_f(w)\n",
    "    print(f'Grad value: {grad}')\n",
    "    \n",
    "    # Brute force approach:\n",
    "    # try a vector of candidates for line search\n",
    "    if steepest_descent:\n",
    "        step_sizes = np.arange(0, 0.3, step=1e-5)\n",
    "        y = f(w - step_sizes * grad)\n",
    "        step_size = step_sizes[np.argmin(y)]\n",
    "        print(f'Best step size: {step_size}')\n",
    "    \n",
    "    # We add \"\"-step_size * grad\"\n",
    "    # to w. So gradient descent is really\n",
    "    # about adding a bunch of values\n",
    "    # until we are dones just like the paper\n",
    "    # points out\n",
    "    \n",
    "    w_new = w - step_size * grad\n",
    "        \n",
    "    return w_new"
   ]
  },
  {
   "cell_type": "code",
   "execution_count": 10,
   "id": "a515d086-ab78-4b07-b481-733585c300f0",
   "metadata": {},
   "outputs": [
    {
     "name": "stdout",
     "output_type": "stream",
     "text": [
      "Step 1\n",
      "w_before=10.0\n",
      "Grad value: 10.0\n",
      "Best step size: 0.29999000000000003\n",
      "w_after=7.0001\n",
      "\n",
      "Step 2\n",
      "w_before=7.0001\n",
      "Grad value: 4.0001999999999995\n",
      "Best step size: 0.29999000000000003\n",
      "w_after=5.800080002\n",
      "\n",
      "Step 3\n",
      "w_before=5.800080002\n",
      "Grad value: 1.6001600039999992\n",
      "Best step size: 0.29999000000000003\n",
      "w_after=5.32004800240004\n",
      "\n",
      "Step 4\n",
      "w_before=5.32004800240004\n",
      "Grad value: 0.6400960048000801\n",
      "Best step size: 0.29999000000000003\n",
      "w_after=5.128025601920064\n",
      "\n",
      "Step 5\n",
      "w_before=5.128025601920064\n",
      "Grad value: 0.25605120384012814\n",
      "Best step size: 0.29999000000000003\n",
      "w_after=5.051212801280064\n",
      "\n",
      "Step 6\n",
      "w_before=5.051212801280064\n",
      "Grad value: 0.10242560256012823\n",
      "Best step size: 0.29999000000000003\n",
      "w_after=5.020486144768051\n",
      "\n",
      "Step 7\n",
      "w_before=5.020486144768051\n",
      "Grad value: 0.04097228953610177\n",
      "Best step size: 0.29999000000000003\n",
      "w_after=5.008194867630116\n",
      "\n",
      "Step 8\n",
      "w_before=5.008194867630116\n",
      "Grad value: 0.016389735260231575\n",
      "Best step size: 0.29999000000000003\n",
      "w_after=5.003278110949399\n",
      "\n",
      "Step 9\n",
      "w_before=5.003278110949399\n",
      "Grad value: 0.006556221898797787\n",
      "Best step size: 0.29999000000000003\n",
      "w_after=5.001311309941978\n",
      "\n",
      "Step 10\n",
      "w_before=5.001311309941978\n",
      "Grad value: 0.0026226198839562898\n",
      "Best step size: 0.29999000000000003\n",
      "w_after=5.00052455020299\n",
      "\n",
      "Final value: 5.00052455020299\n"
     ]
    }
   ],
   "source": [
    "w = 10.\n",
    "for i in range(10):\n",
    "    print(f'Step {i + 1}')\n",
    "    print(f'w_before={w}')\n",
    "    w_new = do_steepest_descent_step(w, f, grad_f, steepest_descent=True)\n",
    "    if w == w_new:\n",
    "        print('Convergence reached!')\n",
    "        break\n",
    "    w = w_new\n",
    "    print(f'w_after={w}')\n",
    "    print('')\n",
    "print(f'Final value: {w}')"
   ]
  },
  {
   "cell_type": "markdown",
   "id": "426a04ed-1c35-4870-ad99-25cd2ef49407",
   "metadata": {},
   "source": [
    "# 2 Numerical optimiizing in function space"
   ]
  },
  {
   "cell_type": "markdown",
   "id": "f5b159a1-34ee-46b1-98fb-83b9047a5eb3",
   "metadata": {},
   "source": [
    "> <i>Here we take a \"nonparametric\" approach and apply numerical optimization in function space. That is we consider F(x) evaluated at each point x to be a \"parameter\" and seek to minimize\n",
    "<br />\n",
    "<br />\n",
    "$\\Phi(F) = E_{y,x}L(y, F(x)) = E_x[E_y [L(y, F(x) | x]]$\n",
    "<br />\n",
    "<br />\n",
    "or equivalently\n",
    "<br />\n",
    "<br />\n",
    "$\\Phi(F(x)) = E_y [L(y, F(x)) | x]$\n",
    "<br />\n",
    "<br />\n",
    "at each individual x, directly with respect to F(x). \n",
    "</i>\n",
    "\n",
    "If we treat each $F(x)$ as a parameter, there will be as many parameters as there are unique x values. In practice, you will only be given a finite number of parameter observations (the training data).\n",
    "\n",
    "This is similar to instance-based methods (you store the data and use at runtime) in ML. For example, in the nearest neighbor model, you store the data and when picking a point, find the 5 nearest neighbors for example. The data itself ARE the parameters of the model. But the parameters do not need to be estimated, they are just given. But this paper is not using an instance-based approach, we still want to estimate the parameter at each point. This is the only way we can make predictions for the parameters not observed."
   ]
  },
  {
   "cell_type": "markdown",
   "id": "36647c6d-57f9-4771-a932-9a5f87575a57",
   "metadata": {},
   "source": [
    "> <i>In function space there are an infinite number of such parameters, but in data sets (discussed below) only a finite number $\\{F(x_i)\\}_i^N$ are involved. Following the numerical optimization paradigm we take the solution to be\n",
    "<br />\n",
    "<br />\n",
    "$F^*(x) = \\sum_m f_m(x)$\n",
    "<br />\n",
    "<br />\n",
    "where $f_0(x)$ is an initial guess, and ${f_m(x)}_1^M$ are incremental functions (\"steps\" or \"boosts\") defined by the optimization method.\n",
    "</i>\n",
    "\n",
    "We only have as many parameters as training examples. If are treating the function as a parameter, taking the sum approach like how parameters are estimated makes sense. In the parameter approach, we end up with a final vector of parameters that is then used in our model (which has a fixed structure). Here, we actually end up with the model outputs instead.\n",
    "\n",
    "So this is basically an exercise in notation. Everwhere there is a $p$ just replace with $f_m$. But this raises a major practical issue: what happens when you want to get an output for an $x$ not in the training dataset?"
   ]
  },
  {
   "cell_type": "markdown",
   "id": "94f1410c-2adb-4807-9ea8-81dd31e9a222",
   "metadata": {},
   "source": [
    "> <i>For steepest-descent\n",
    "<br />\n",
    "<br />\n",
    "$f_m(x) = -\\rho_m g_m(x)$\n",
    "<br />\n",
    "<br />\n",
    "with\n",
    "<br />\n",
    "<br />\n",
    "$g_m(x) = [\\frac{\\partial \\phi(F(x))}{\\partial F(x)}]_{F(x) = F_{m - 1}(x)} = [\\frac{\\partial E_y [L(y, F(x) | x]}{\\partial F(x)}]_{F(x) = F_{m - 1}(x)}$\n",
    "<br />\n",
    "<br />\n",
    "and\n",
    "<br />\n",
    "<br />\n",
    "$F_{m - 1}(x) = \\sum_{i=0}^{m-1} f_i(x)$\n",
    "<br />\n",
    "<br />\n",
    "Assuming sufficient regularity that one can interchange differentiation and integration, this becomes\n",
    "<br />\n",
    "<br />   \n",
    "$g_m(x) = E_y[\\frac{\\partial L(y, F(x))}{\\partial F(x)}]_{F(x) = F_{m-1}(x)}$\n",
    "<br />\n",
    "<br />  \n",
    "The multiplier $\\rho_m$ in (6) is given by the line search\n",
    "<br />\n",
    "<br /> \n",
    "$\\rho_m = \\text{argmin}_{\\rho_m} E_{y, x} L(y, F_{m - 1}(x) - \\rho_m g_m(x))$\n",
    "</i>\n",
    "\n",
    "Here, $\\rho_m$ is calculated with the line search (like the naive implementation we did earlier). In a package like XGBoost, it's known as the \"eta\" parameter. AFAIK, it's a hyperparameter this is constant across all \"boosts\".\n",
    "\n",
    "Recall that $E_y [L(y, F(x)) | x]$ is $\\int_y L(y, F(x)) P(y | x) dy$. For a given $x$ then, for the true underlying function, what is the probability of y given that x? This must be 1 when y is correct, and 0 otherwise. So this really just picks out $L(y, F(x))$"
   ]
  },
  {
   "cell_type": "markdown",
   "id": "8dc404a9-0870-451d-a12d-1e0f04e6f504",
   "metadata": {},
   "source": [
    "# 3 Finite data"
   ]
  },
  {
   "cell_type": "markdown",
   "id": "9247f6a1-8bf0-4671-991f-ef923fae0292",
   "metadata": {},
   "source": [
    "> <i>This nonparametric approach breaks down when the joint distribution of (y, x) is estimated by a finite data sample $\\{y_i, x_i\\}_i^N$. In this case $E_y[. | x]$ cannot be estimated accurately by its data value at each $x_i$, and even if it could, one would like to estimate $F^*(x)$ at x values other than the training sample points. Strength must be borrowed from nearby data points by imposing smoothness on the solution. One way to do this is to assume a parameterized form such as (2) and do parameter optimization as discussed in Section 1.1 to minimize the corresponding data based estimate of expected loss\n",
    "<br />\n",
    "<br />\n",
    "$\\{ \\beta_m, a_m\\}_i^M = \\text{argmin}_{\\beta_m, \\alpha_m} \\sum_{i=1}^N L \\big( y_i, \\sum_m \\beta_m h(x_i; a_m) \\big)$\n",
    "</i>\n",
    "\n",
    "This means we are back to assuming a parameterized model! And the model assumed here, is an additive one. Also, this optimization is done jointly--which gets harder and harder to do as the number of terms grows and the model complexity grows."
   ]
  },
  {
   "cell_type": "markdown",
   "id": "0525c29f-2717-453d-a178-a0d902101115",
   "metadata": {},
   "source": [
    "> <i>In situations where this is infeasible one can try a \"greedy-stagewise\" approach. For $m = 1, 2, ..., M$\n",
    "<br />\n",
    "$(\\beta_m, \\alpha_m) = argmin_{\\beta, a} \\sum_i^N L(y_i, F_{m-1}(x_i) + \\beta h(x_i; a)$\n",
    "<br />\n",
    "and then\n",
    "<br />\n",
    "$F_m(x) = F_{m - 1}(x) + \\beta_m h(x; a_m)$</i>\n",
    "\n",
    "So the tradeoff here is that we won't in general, obtain the correct solution. By freezing the set of parameters at each 'stage', this means we only have to learn the the weight and parameters of the given booster one at a time. It does make me wonder how much of a tradeoff this is."
   ]
  },
  {
   "cell_type": "markdown",
   "id": "1e8bb24e-0fed-4cb9-bdc1-c9721424e5f6",
   "metadata": {},
   "source": [
    "> <i>Note that this stagewise strategy is different from stepwise approaches that readjust previously entered terms when new ones are added. In signal processing this stagewise strategy is called \"matching pursuit\" where L(y, F) is squared-error loss and the $\\{h(x; a_m\\}_1^M$ are called basis functions, usually taken from an over-complete wavelet-like dictionary. In machine learning, (9) (10) is called \"boosting\" where $y \\in \\{-1, 1\\}$ and $L(y, F)$ is either an exponential loss criterion $e^{-yF}$ or negative binomial log-likelihood. The function h(x; a) is called a \"weak learner\" or \"base learner\", and is usually a classification tree.</i>\n",
    "\n",
    "The \"matching pursuit\" algorithms arises from the paper <a href=\"https://www.di.ens.fr/~mallat/papiers/MallatPursuit93.pdf\">Matching Pursuits with Time-Frequency Dictionaries</a>. Uforunately, not much more I can say about it at this time.\n",
    "\n",
    "I have not studied much on the topic of sparse coding. But here's what I could gather. A vector is represented by a linear combination of a set of basis vectors (in general, no requirement these be orthogonal). When we say basis, what we mean is that each vector is UNIQUELY represented by a set of components (the coefficients in the linear sum of basis vectors). But it seems while mathematically nice, it's not always practical. It turns having the ability to represent a vector in more than one way brings benefits (I cannot articulate why at this time). This means we will need to more atoms than we need. This is where the term \"over-complete dictionary\" comes in. The wavelet refers to the type of $h(x; a)$ model we assume. The exponential loss is referring back to the Adaboost paper. Also, $h(x; a)$ is also called a \"booster\" as well."
   ]
  },
  {
   "cell_type": "markdown",
   "id": "f7fe3508-4bc5-4bcb-b443-f1088e6305a6",
   "metadata": {},
   "source": [
    "><i>Suppose for that for a particular loss $L(y, F)$ and/or base learner $h(x; a)$ the solution to $(\\beta_m, \\alpha_m) = argmin_{\\beta, a} \\sum_i^N L(y_i, F_{m-1}(x_i) + \\beta h(x_i; a)$ is difficult to obtain. Given any approximator $F_{m-1}(x)$, the function $\\beta_m h(x; a_m)$ can be viewed the best greedy step towards the data based estimate of $F^*(x)$, under the constraint that the step \"direction\" $h(x; a_m)$ be a member of the parameterized class of functions $h(x;a)$. It can thus be regarded as a steepest-descent step under that constraint. By construction, the data based analogue of the unconstrained negative gradient\n",
    "<br/>\n",
    "<br/>\n",
    "$-g_m(x_i) = - \\big[ \\frac{\\partial L(y_i, F(x_i)}{\\partial F(x_i)} \\big]_{F(x) = F_{m - 1}(x)}$\n",
    "<br/>\n",
    "<br/>\n",
    "gives the best steepest-descent step direction $-g_m = \\{ -g_m(x_i)\\}_1^N$ in the N-dimensional data space at $F_{m-1}(x)$\n",
    "</i>\n",
    "\n",
    "What this is saying, is that we create a vector of made up N components, where a single component is $L(y_i, \\hat{y_i})$. By taking the gradient of this vector, and taking a step in the opposite direction of this gradient, we are approaching a point in this space where the loss becomes a minima."
   ]
  },
  {
   "cell_type": "markdown",
   "id": "16e383c9-fd2c-4db5-a8a8-223142e35ed8",
   "metadata": {},
   "source": [
    "> <i>However, this gradient is only defined only at the data points $\\{ x_i\\}_i^N$ and cannot be generalized to other x-values. One possibility for generalization is to choose that member of the parameterized class $h(x; a_m)$ that produces $h_m = \\{ h(x_i; a_m \\}_{1}^N$ most parallel to $-g_m \\in R^N$. This is the $h(x; a)$ most highly correlated with $-g_m(x)$ over the data distribution. It can be obtained from the solution:\n",
    "<br />\n",
    "<br />\n",
    "$a_m = \\text{argmin}_{a, \\beta} \\sum_i^N [-g_m(x) - \\beta h(x_i; a)]^2$\n",
    "</i>\n",
    "\n",
    "Realize, we are back to a parameterized model. But what's novel here, is that are trying to learn the gradient of the loss function. The $h(x_i; a)$ is now a model that is trying to replicate the loss gradient. So this is a different type of learning. We can call this \"gradient learning\".\n",
    "\n",
    "Now, because of this, a new and different cost function is introduced. Here, the author chooses least squares (but of course other cost functions can be used). By learning the gradient, this allows the model to be defined for $x$ not in the training set.\n",
    "\n"
   ]
  },
  {
   "cell_type": "markdown",
   "id": "5a426ffc-5bf8-4930-8c0c-1d9a52fa19be",
   "metadata": {},
   "source": [
    "> <i>This constrained negative gradient $h(x; a_m)$ is used in place of the unconstrained one in the steepest-descent strategy. Specifically, the line search is performed\n",
    "<br/>\n",
    "<br/>\n",
    "$\\rho_m = \\text{argmin}_{\\rho} \\sum_i^N L(y_i, F_{m - 1}(x_i) - \\rho h(x_i; a_m))$\n",
    "<br/>\n",
    "<br/>\n",
    "and the approximation updated\n",
    "<br/>\n",
    "<br/>\n",
    "$F_m(x) = F_{m-1}(x) + \\rho_m h(x; a_m)$\n",
    "<br/>\n",
    "<br/>\n",
    "Basically, instead of obtaining the solution under a smoothness constraint, the constraint is applied to the unconstrained (rough) solution by fitting $h(x; a)$ to the \"pseudo-responses\" $\\{ \\tilde{y_i} = -g_m(x_i)\\}_{i=1}^N$. This permits the replacement for the difficult function minimization problem by least-squares function minimization, followed by only a single parameter optimization based on the original criterion. Thus, for any $h(x; a)$ for this a feasible least-squares algorithm exists for solving $a_m = \\text{argmin}_{a, \\beta} \\sum_i^N [-g_m(x) - \\beta h(x_i; a)]^2$, one can use this approach to minimize any differential loss $L(y, F)$ in conjunction with forward stagewise additive modeling.\n",
    "    \n",
    "The uncontrained so-called \"rough\" solution is using the training gradient values (the value from calculating the deriative of the loss function). These values are what Friedman calls the \"pseudo-responses\". I mean, it's not the response value itself (which is $y$). But it's obtained after feeding our $y$ into the loss function and taking the first derivative."
   ]
  },
  {
   "cell_type": "markdown",
   "id": "1ed57fd7-8046-41aa-ae04-49cb29186322",
   "metadata": {},
   "source": [
    "><i>This leads to the following (generic) algorithm using steepest-descent.\n",
    "<br />\n",
    "$F_0(x) = \\text{argmin}_{\\rho} \\sum_i^N L(y_i, \\rho)$\n",
    "<br />\n",
    "For $m=1$ to M do:\n",
    "<br />\n",
    "&nbsp; &nbsp; &nbsp; &nbsp; $y_i = - \\big[ \\frac{\\partial L(y_i, F(x_i)}{\\partial F(x_i)} \\big]_{F(x) = F_{m-1}(x)}$, over $i=1, N$\n",
    "<br />\n",
    "&nbsp; &nbsp; &nbsp; &nbsp;  $a_m = \\text{argmin}_{a, \\beta} \\sum_i^N [\\tilde{y_i} - \\beta h(x_i; a)]^2$\n",
    "<br />\n",
    "&nbsp; &nbsp; &nbsp; &nbsp;  $\\rho_m = \\text{argmin}_{\\rho} \\sum_i^N L(y_i, F_{m-1}(x_i) + \\rho h(x_i; a_m))$\n",
    "<br />\n",
    "&nbsp; &nbsp; &nbsp; &nbsp;  $F_m(x) = F_{m - 1}(x) + \\rho_m h(x; a_m)$\n",
    "<br />\n",
    "</i>"
   ]
  },
  {
   "cell_type": "markdown",
   "id": "d8978fd1-7dac-4390-aa06-dbef7d3239f2",
   "metadata": {},
   "source": [
    "💻 Let's implement this now. We will calculate the gradients manually. But to support general loss functions, we would need to rely on a package like <a href=\"https://jax.readthedocs.io/en/latest/index.html#\">jax</a>.\n",
    "\n",
    "Our first step is to get some data to try our algorithm on. Let's leverage sklearn for this."
   ]
  },
  {
   "cell_type": "code",
   "execution_count": 11,
   "id": "d7053b51-45e3-4fd0-9d18-92fea6d06a5d",
   "metadata": {},
   "outputs": [],
   "source": [
    "ds = sklearn.datasets.fetch_california_housing(return_X_y=False, download_if_missing=True)"
   ]
  },
  {
   "cell_type": "code",
   "execution_count": 12,
   "id": "f059a31f-7480-490f-b642-69095534d689",
   "metadata": {},
   "outputs": [
    {
     "data": {
      "text/plain": [
       "array([4.526, 3.585, 3.521, ..., 0.923, 0.847, 0.894])"
      ]
     },
     "execution_count": 12,
     "metadata": {},
     "output_type": "execute_result"
    }
   ],
   "source": [
    "# Median house value in units of $100,000\n",
    "y = ds.target\n",
    "y"
   ]
  },
  {
   "cell_type": "code",
   "execution_count": 13,
   "id": "f47438ce-6c54-464b-8e80-95a901db28b2",
   "metadata": {},
   "outputs": [
    {
     "data": {
      "text/plain": [
       "['MedInc',\n",
       " 'HouseAge',\n",
       " 'AveRooms',\n",
       " 'AveBedrms',\n",
       " 'Population',\n",
       " 'AveOccup',\n",
       " 'Latitude',\n",
       " 'Longitude']"
      ]
     },
     "execution_count": 13,
     "metadata": {},
     "output_type": "execute_result"
    }
   ],
   "source": [
    "# We will ignore lat and long for our purposes\n",
    "# MedInc     = median income in block group\n",
    "# HouseAge   = median house age in block group\n",
    "# AveRooms   = average number of rooms per household\n",
    "# AveBedrms  = average number of bedrooms per household\n",
    "# Population = block group population\n",
    "# AveOccup   = average number of household members\n",
    "# Latitude   = block group latitude\n",
    "# Longitude  = block group longitude\n",
    "X = ds.data[:,0:-2]\n",
    "ds.feature_names"
   ]
  },
  {
   "cell_type": "code",
   "execution_count": 14,
   "id": "cf2b1ea6-368a-4412-a4b4-33f62f179622",
   "metadata": {},
   "outputs": [
    {
     "name": "stdout",
     "output_type": "stream",
     "text": [
      "n_train=16512\n",
      "n_test=4128\n"
     ]
    }
   ],
   "source": [
    "from sklearn import preprocessing\n",
    "\n",
    "X_train, X_test, y_train, y_test = sklearn.model_selection.train_test_split(X, y,\n",
    "                                                                            test_size=.2,\n",
    "                                                                            random_state=random_state)\n",
    "\n",
    "X_scaler = preprocessing.StandardScaler().fit(X_train)\n",
    "y_scaler = preprocessing.StandardScaler().fit(y_train.reshape(-1, 1))\n",
    "\n",
    "X_train = X_scaler.transform(X_train)\n",
    "X_test = X_scaler.transform(X_test)\n",
    "\n",
    "y_train = y_scaler.transform(y_train.reshape(-1, 1)).flatten()\n",
    "y_test = y_scaler.transform(y_test.reshape(-1, 1)).flatten()\n",
    "\n",
    "print(f'n_train={X_train.shape[0]}')\n",
    "print(f'n_test={X_test.shape[0]}')"
   ]
  },
  {
   "cell_type": "code",
   "execution_count": 15,
   "id": "479f2635-16f9-43ae-b289-e998a16eb2b5",
   "metadata": {},
   "outputs": [
    {
     "name": "stdout",
     "output_type": "stream",
     "text": [
      "Train MSE: 0.9999999999999996\n",
      "Test MSE: 0.9700794150600993\n"
     ]
    }
   ],
   "source": [
    "# For a baseline, let's use an average as the model\n",
    "train_error = mean_squared_error(y_train, [np.mean(y_train)] * len(y_train))\n",
    "test_error = mean_squared_error(y_test, [np.mean(y_train)] * len(y_test))\n",
    "print(f'Train MSE: {train_error}')\n",
    "print(f'Test MSE: {test_error}')"
   ]
  },
  {
   "cell_type": "code",
   "execution_count": 16,
   "id": "57bc831b-b623-4433-a56f-2debf0e2eaab",
   "metadata": {},
   "outputs": [
    {
     "name": "stdout",
     "output_type": "stream",
     "text": [
      "Train MSE: 0.551537250945421\n",
      "Test MSE: 0.5434082038635916\n"
     ]
    }
   ],
   "source": [
    "# Compare to a single decision tree\n",
    "# We can of course, play with different max depths\n",
    "# Not setting max depth will immediately cause\n",
    "# the model to overfit. Try it for yourself.\n",
    "decision_tree_baseline = DecisionTreeRegressor(max_depth=2)\n",
    "decision_tree_baseline.fit(X_train, y_train)\n",
    "train_error = mean_squared_error(y_train, decision_tree_baseline.predict(X_train))\n",
    "test_error = mean_squared_error(y_test, decision_tree_baseline.predict(X_test))\n",
    "print(f'Train MSE: {train_error}')\n",
    "print(f'Test MSE: {test_error}')"
   ]
  },
  {
   "cell_type": "markdown",
   "id": "9745fff3-b897-45a6-9a65-87408db59f8f",
   "metadata": {},
   "source": [
    "It's a little bit better. Let's try linear regression next"
   ]
  },
  {
   "cell_type": "code",
   "execution_count": 17,
   "id": "0d03415e-59a5-4ecb-86ef-81e3842d9d68",
   "metadata": {},
   "outputs": [
    {
     "name": "stdout",
     "output_type": "stream",
     "text": [
      "Train MSE: 0.4635363995159715\n",
      "Test MSE: 0.4338923167239294\n"
     ]
    }
   ],
   "source": [
    "# Let's see what standard linear gression gives us\n",
    "model_baseline = LinearRegression()\n",
    "model_baseline.fit(X_train, y_train)\n",
    "train_error = mean_squared_error(y_train, model_baseline.predict(X_train))\n",
    "test_error = mean_squared_error(y_test, model_baseline.predict(X_test))\n",
    "print(f'Train MSE: {train_error}')\n",
    "print(f'Test MSE: {test_error}')"
   ]
  },
  {
   "cell_type": "markdown",
   "id": "0e152184-e4df-4739-9d33-c70f03a818ae",
   "metadata": {},
   "source": [
    "Now we implement GBMs. We will end up implementing quite a few loss functions so we want to design a API to deal with all of this. We will make a GBM class that is a parent class and inherit base functionality from it."
   ]
  },
  {
   "cell_type": "code",
   "execution_count": 18,
   "id": "30eadc35-bb47-4398-aeaf-650869e4cada",
   "metadata": {},
   "outputs": [],
   "source": [
    "class LeastSquaresGBM():\n",
    "    def __init__(self,\n",
    "                 booster,\n",
    "                 n_boost,\n",
    "                 step_size=0.001,\n",
    "                 X_test=None,\n",
    "                 y_test=None):\n",
    "        \n",
    "        self.n_boost = n_boost\n",
    "        self.step_size = step_size\n",
    "        self.booster = booster\n",
    "        self.X_test = X_test\n",
    "        self.y_test = y_test\n",
    "        self.loss_fn = lambda y, y_hat: (y - y_hat)**2 / 2.\n",
    "        self.grad_loss_fn = lambda y, y_hat: -(y - y_hat)\n",
    "        \n",
    "        # Set during fit\n",
    "        # But set here for visibility sake\n",
    "        self.prior = None\n",
    "        self.boosters = []\n",
    "        self.training_loss = []\n",
    "        self.test_loss = []\n",
    "    \n",
    "    def fit(self, X, y):\n",
    "        \n",
    "        t0 = time.time()\n",
    "        \n",
    "        self.prior = np.mean(y)\n",
    "\n",
    "        y_hat = np.array([self.prior] * len(y))\n",
    "        \n",
    "        self.training_loss = []\n",
    "        self.test_loss = []\n",
    "        \n",
    "        for _ in range(self.n_boost):\n",
    "            \n",
    "            # Clone a model\n",
    "            model = clone(self.booster)\n",
    "            \n",
    "            # Calculate negative gradient values\n",
    "            y_train = self.grad_loss_fn(y, y_hat)\n",
    "                        \n",
    "            # Build a model that learns\n",
    "            # the negative of the gradient\n",
    "            model.fit(X, y_train)\n",
    "            \n",
    "            # Predict gradient values\n",
    "            grad_hat = model.predict(X)\n",
    "            \n",
    "            # Take a step so that loss function\n",
    "            # decreases\n",
    "            y_hat = y_hat - self.step_size * grad_hat\n",
    "            \n",
    "            # Save model for future inferences\n",
    "            self.boosters.append(model)\n",
    "            \n",
    "            # Predict what we have thus far\n",
    "            y_pred = self.predict(X)\n",
    "            \n",
    "            # Compute loss at each step\n",
    "            train_loss = np.mean(2 * self.loss_fn(y, y_pred))\n",
    "            \n",
    "            self.training_loss.append(train_loss)\n",
    "            \n",
    "            if self.X_test is not None:\n",
    "                y_pred = self.predict(self.X_test)\n",
    "                test_loss = np.mean(2 * self.loss_fn(self.y_test, y_pred))\n",
    "                self.test_loss.append(test_loss)\n",
    "                \n",
    "        self.training_time = time.time() - t0\n",
    "            \n",
    "    def predict(self, X):\n",
    "        \n",
    "        y_hat = np.array([self.prior] * X.shape[0])\n",
    "        \n",
    "        for booster in self.boosters:\n",
    "            \n",
    "            # Make a prediction\n",
    "            grad_hat = booster.predict(X)\n",
    "            \n",
    "            # Take step\n",
    "            y_hat = y_hat - self.step_size * grad_hat\n",
    "            \n",
    "        return y_hat"
   ]
  },
  {
   "cell_type": "code",
   "execution_count": 23,
   "id": "474f30b2-2c13-49cb-a425-431521450713",
   "metadata": {},
   "outputs": [
    {
     "name": "stdout",
     "output_type": "stream",
     "text": [
      "Train MSE:    0.3538803967189855\n",
      "Test MSE:     0.3485243625594113\n",
      "Traing Time:  1.6985301971435547 seconds\n"
     ]
    },
    {
     "data": {
      "text/plain": [
       "<matplotlib.legend.Legend at 0x121834af0>"
      ]
     },
     "execution_count": 23,
     "metadata": {},
     "output_type": "execute_result"
    },
    {
     "data": {
      "image/png": "[encoded data removed]",
      "text/plain": [
       "<Figure size 432x288 with 1 Axes>"
      ]
     },
     "metadata": {
      "needs_background": "light"
     },
     "output_type": "display_data"
    }
   ],
   "source": [
    "from sklearn.tree import DecisionTreeRegressor\n",
    "from sklearn.metrics import mean_squared_error\n",
    "\n",
    "model = LeastSquaresGBM(booster=DecisionTreeRegressor(max_depth=2, criterion='squared_error'),\n",
    "                        n_boost=50,\n",
    "                        step_size=.1,\n",
    "                        X_test=X_test,\n",
    "                        y_test=y_test)\n",
    "\n",
    "model.fit(X_train, y_train)\n",
    "\n",
    "train_error = mean_squared_error(y_train, model.predict(X_train))\n",
    "test_error = mean_squared_error(y_test, model.predict(X_test))\n",
    "\n",
    "print(f'Train MSE:    {train_error}')\n",
    "print(f'Test MSE:     {test_error}')\n",
    "print(f'Traing Time:  {model.training_time} seconds')\n",
    "\n",
    "fig, ax = plt.subplots()\n",
    "ax.plot(range(len(model.training_loss)), model.training_loss, marker='o', color='gray', label='train')\n",
    "ax.plot(range(len(model.test_loss)), model.test_loss, marker='o', color='red', label='test')\n",
    "ax.set_ylabel('Mean Squared Error')\n",
    "ax.set_xlabel('Number of Rounds')\n",
    "plt.legend()"
   ]
  },
  {
   "cell_type": "markdown",
   "id": "52f6602a-8d1e-4c6f-b42b-73e18a5bbc0b",
   "metadata": {},
   "source": [
    "> <i>Note that any fitting criterion that estimates conditional expecation (given x) could in principle be used to estimate the (smoothed) negative gradient at line 4 of Algorithm 1. Least-squares (11) is a natural choice owing to the superior computational properties of many least-squares algorithm\n",
    "\n",
    "Yes. It's really just learning the gradient of the loss. So any cost function will work. Least-squares is a reasonable default IMHO."
   ]
  },
  {
   "cell_type": "markdown",
   "id": "2f791e20-5313-451c-a51e-8b115c8cdb5a",
   "metadata": {},
   "source": [
    "><i> In the special case where $y \\in \\{-1, 1\\}$ and the loss function $L(y, F)$ depends on y and F only through their product $L(y, F) = L(yF)$, the analogy of boosting (9), (10) to steepest-descent minimization has been noted in the machine learning literature. Duffy and Hemlbold elegantly exploit this analogy to motivate their GeoLev and and GeoArc procedures. The quantity $yF$ is call the \"margin\" and the steepest-descent is performed in the space of margin values, rather than the space of function values F. The latter approach permits application to more general loss functions where the notion of margins is not apparent. Durker employes a different strategy of casting regression in the framework of classification in the context of the AdaBoost algorithm.\n",
    "    \n",
    "It seems they make aware they are not the first to generalize AdaBoost. AdaBoost was generalized to margin values but a generalization to optimizing over function space direclty is indeed, the most general. It's a nice framework, because it leads to new classes of algorithms.\n",
    "    \n",
    "I never read the paper behind GeoLev and GeoArc but it can be found here: http://citeseerx.ist.psu.edu/viewdoc/download?doi=10.1.1.63.4750&rep=rep1&type=pdf"
   ]
  },
  {
   "cell_type": "markdown",
   "id": "57e5cb9a-a357-49ea-b04d-ef6146fca156",
   "metadata": {},
   "source": [
    "# 4. Applications: additive modeling\n",
    "\n",
    "> <i>In this section the gradient boosting strategy is applied to several popular loss critiera: least-squares (LS), least absolute devation (LAD), Huber (M), and logistic binomial log-likelihood (L). The first serves as a \"reality check\", whereas the others lead to new boosting algorithms.\n",
    "    \n",
    "These are all the cost functions we coded up from the abstract."
   ]
  },
  {
   "cell_type": "markdown",
   "id": "3697c9ca-42f3-4f0e-a227-19773f991a2a",
   "metadata": {},
   "source": [
    "## 4.1 Least-square regression"
   ]
  },
  {
   "cell_type": "markdown",
   "id": "ef771583-abcc-4b56-b12d-1018d24635f9",
   "metadata": {},
   "source": [
    "> <i>4.1 Least-squares regression. Here $L(y, F) = \\frac{1}{2}(y - F)^2$. The pseudoresponse in line 3 of algorithm is $\\tilde{y_i} = y_i - F_{m - 1}(x_i)$\n",
    "    \n",
    "Yes, $-[\\frac{\\partial L(y, F)}{\\partial F}] = y - F$ (use chain rule to solve). So we fitting a model where our target is the residual. If the residual is positive, we are underestimating the gradient."
   ]
  },
  {
   "cell_type": "markdown",
   "id": "f5dc0a3f-d004-48a7-9ac7-de4592c61539",
   "metadata": {},
   "source": [
    "><i>"
   ]
  },
  {
   "cell_type": "markdown",
   "id": "9cf1ea89-95ae-4d5e-aa89-02648c6f6b2d",
   "metadata": {},
   "source": [
    "> <i>Thus, line 4 simply fits the current residuals and the line search (line 5) produces the result $\\rho_m = \\beta_m$, where $\\beta_m$ is the minimizing $\\beta$ of line 4. Therefore, gradient boosting on squared-error loss produces the usual stagewise approach of iteratively fitting the current residuals.\n",
    "<br/>\n",
    "<br/>\n",
    "ALGORITHM 2 (LS_Boost)\n",
    "<br/>\n",
    "$F_0(x) = \\bar{y}$ [take average]\n",
    "<br/>\n",
    "For $m=1$ to M do:\n",
    "<br />\n",
    "&nbsp; &nbsp; &nbsp; &nbsp; $\\tilde{y_i} = y_i - F_{m-1}(x_i)$, $i=1, N$\n",
    "<br />\n",
    "&nbsp; &nbsp; &nbsp; &nbsp;  $(a_m, \\rho_m) = \\text{argmin}_{a, \\rho} \\sum_i^N [\\tilde{y_i} - \\rho h(x_i; a)]^2$\n",
    "<br />\n",
    "&nbsp; &nbsp; &nbsp; &nbsp;  $F_m(x) = F_{m - 1}(x) + \\rho_m h(x; a_m)$\n",
    "<br />\n",
    "</i>\n",
    "\n",
    "So line (5) referenced is this:\n",
    "\n",
    "$\\rho_m = \\text{argmin}_{\\rho} \\sum_i^N L(y_i, F_{m-1}(x_i) + \\rho h(x_i; a_m))$\n",
    "\n",
    "Since the loss is least-squares we get:\n",
    "\n",
    "$\\rho_m = \\text{argmin}_{\\rho} \\sum_i^N (y_i - (F_{m-1}(x_i) + \\rho h(x_i; a_m)))^2$\n",
    "\n",
    "rearranging:\n",
    "\n",
    "$\\rho_m = \\text{argmin}_{\\rho} \\sum_i^N (y_i - (F_{m-1}(x_i)) - \\rho h(x_i; a_m)))^2$\n",
    "\n",
    "and since $y_i - F_{m-1}(x_i) = \\tilde{y_i}$ \n",
    "\n",
    "$\\rho_m = \\text{argmin}_{\\rho} \\sum_i^N [\\tilde{y_i} - \\rho h(x_i; a_m)]^2$\n",
    "\n",
    "That's why the same equation gets repeated twice. Once for $\\rho_m$ and another time for $\\alpha_m$"
   ]
  },
  {
   "cell_type": "markdown",
   "id": "05bcb3b9-7220-4be2-98b1-949467469ca4",
   "metadata": {},
   "source": [
    "## 4.2 Least absolute deviation (LAD)"
   ]
  },
  {
   "cell_type": "markdown",
   "id": "d815d691-4576-4c0d-80bc-64508ef89644",
   "metadata": {},
   "source": [
    "><i> For the loss function L(y, F) = |y - F|, one has\n",
    ">\n",
    ">$\\tilde{y_i} = -[\\frac{\\partial L(y_i, F(x_i)}{\\partial F(x_i)}]_{F(x) = F_{m-1}(x)} = \\text{sign}(y_i - F_{m-1}(x_i))$ \n",
    "\n",
    "This can be shown as follows. We can break the loss into a conditional statement:\n",
    "    \n",
    "$L(y_i, F(x_i)) = y_i - F(x_i)$ [for $y_i > F(x_i)$]\n",
    "    \n",
    "$L(y_i, F(x_i)) = F(x_i) - y_i$ [for $F(x_i) > y_i$]\n",
    "    \n",
    "$L(y_i, F(x_i)) = 0$ [for $F(x_i) = y_i$]\n",
    "    \n",
    "Taking the partial deriative piecewise we get:\n",
    "    \n",
    "$-1$ [for $y_i > F(x_i)$]\n",
    "    \n",
    "$+1$ [for $F(x_i) > y_i$]\n",
    "    \n",
    "$\\text{undefined}$ [for $F(x_i) = y_i$]\n",
    "    \n",
    "This is equivalent to $- \\text{sign}(y_i - F(x_i))$. (Notice the minus in front!). Remember, they are learning the negative of the gradient. So when the step is taken, you add the step (not subtract). Also, notice we are learning the sign of the error. And that even if the error is large, its magnitude is ignored."
   ]
  },
  {
   "cell_type": "markdown",
   "id": "fdd9ac2d-5699-4e81-989f-3c15790592b5",
   "metadata": {},
   "source": [
    "> <i>This implies that $h$ is fit (least-squares) to the sign of the current residuals in > line 4 of Algorithm 1. The line search (line 5) becomes\n",
    ">\n",
    ">$\\rho_m = \\text{argmin}_{\\rho} \\sum_i^N |y_i - F_{m-1}(x_i) - \\rho h(x_i; a_m)|$\n",
    ">$= \\text{argmin}_{\\rho} \\sum_i^N |h(x_i; a_m)| |\\frac{y_i - F_{m-1}(x_i)}{h(x_i; a_m)} - \\rho|$\n",
    "><br />\n",
    ">$= \\text{median}_w \\{\\frac{y_i - F_{m-1}(x_i)}{h(x_i; a_m)}\\}$ &nbsp;&nbsp;&nbsp; $w_i = |h(x_i; a_m)|$\n",
    "    \n",
    "The key to understanding the solution to this, is to see this <a href=\"https://math.stackexchange.com/questions/113270/the-median-minimizes-the-sum-of-absolute-deviations-the-ell-1-norm\">answer</a>. That is, the solution to the following:\n",
    "    \n",
    "$\\sum_i^N |x_i - \\alpha|$\n",
    "\n",
    "If $\\alpha$ is the median, then we are able to minimize the quantity. But for our case, is that each number in the series is weighted."
   ]
  },
  {
   "cell_type": "markdown",
   "id": "f891ca3f-cffa-4648-a44a-e0a769964076",
   "metadata": {},
   "source": [
    "><i> Here median_W{.} is the weighted median with weights $w_i$. Inserting these results into Algorithm 1 yields an algorithm for least absolute deviation boosting, using any base learner $h(x|a)$\n",
    "    \n",
    "Nice thing about this, is that the optimal learning rate is able to be computed at each step.\n",
    "    \n",
    "💻 Let's implement this now. We could of course do better with abstractions here, but we will wait to do a proper abstraction at the very end in order to make everything as explicit as possible."
   ]
  },
  {
   "cell_type": "code",
   "execution_count": 24,
   "id": "333d967e-e628-49ca-ac31-f863334f9a5f",
   "metadata": {},
   "outputs": [],
   "source": [
    "class LeastAbsDeviationGBM():\n",
    "    def __init__(self,\n",
    "                 booster,\n",
    "                 n_boost,\n",
    "                 X_test=None,\n",
    "                 y_test=None):\n",
    "        \n",
    "        self.n_boost = n_boost\n",
    "        self.booster = booster\n",
    "        self.X_test = X_test\n",
    "        self.y_test = y_test\n",
    "        \n",
    "        self.loss_fn = lambda y, y_hat: np.abs(y - y_hat)\n",
    "        self.grad_loss_fn = lambda y, y_hat: -np.sign(y - y_hat)\n",
    "        \n",
    "        # Set during fit\n",
    "        # But set here for visibility sake\n",
    "        self.prior = None\n",
    "        self.boosters = []\n",
    "        self.training_loss = []\n",
    "        self.test_loss = []\n",
    "            \n",
    "    def fit(self, X, y):\n",
    "        \n",
    "        t0 = time.time()\n",
    "        \n",
    "        self.prior = np.mean(y)\n",
    "\n",
    "        y_hat = np.array([self.prior] * len(y))\n",
    "        \n",
    "        self.training_loss = []\n",
    "        self.test_loss = []\n",
    "        \n",
    "        for _ in range(self.n_boost):\n",
    "            \n",
    "            # Clone a model\n",
    "            model = clone(self.booster)\n",
    "            \n",
    "            # Calculate negative gradient values\n",
    "            y_train = self.grad_loss_fn(y, y_hat)\n",
    "                        \n",
    "            # Build a model that learns\n",
    "            # the negative of the gradient\n",
    "            model.fit(X, y_train)\n",
    "            \n",
    "            # Predict gradient values\n",
    "            grad_hat = model.predict(X)\n",
    "            \n",
    "            # Compute optimal step size for this loss\n",
    "            w = np.abs(grad_hat)\n",
    "            step_size = np.median(w * ((y - y_hat) / grad_hat))\n",
    "                \n",
    "            # Take a step so that loss function decreases\n",
    "            y_hat = y_hat - step_size * grad_hat\n",
    "            \n",
    "            # Save model for future inferences\n",
    "            self.boosters.append(model)\n",
    "            \n",
    "            # Predict what we have thus far\n",
    "            y_pred = self.predict(X)\n",
    "            \n",
    "            # Compute loss at each step\n",
    "            train_loss = np.mean(self.loss_fn(y, y_pred))\n",
    "            \n",
    "            self.training_loss.append(train_loss)\n",
    "            \n",
    "            if self.X_test is not None:\n",
    "                y_pred = self.predict(self.X_test)\n",
    "                test_loss = np.mean(self.loss_fn(self.y_test, y_pred))\n",
    "                self.test_loss.append(test_loss)\n",
    "                \n",
    "        self.training_time = time.time() - t0\n",
    "            \n",
    "    def predict(self, X, step_size=.01):\n",
    "        \n",
    "        y_hat = np.array([self.prior] * X.shape[0])\n",
    "        \n",
    "        for booster in self.boosters:\n",
    "            \n",
    "            # Make a prediction\n",
    "            grad_hat = booster.predict(X)\n",
    "            \n",
    "            # Take step\n",
    "            y_hat = y_hat - step_size * grad_hat\n",
    "            \n",
    "        return y_hat"
   ]
  },
  {
   "cell_type": "code",
   "execution_count": 25,
   "id": "b3351516-832d-4a11-abd9-e7e95bc7cbff",
   "metadata": {},
   "outputs": [
    {
     "name": "stdout",
     "output_type": "stream",
     "text": [
      "Train MSE:    0.761384080489687\n",
      "Test MSE:     0.731653980131292\n",
      "Traing Time:  1.7811100482940674 seconds\n"
     ]
    },
    {
     "data": {
      "text/plain": [
       "<matplotlib.legend.Legend at 0x12198dee0>"
      ]
     },
     "execution_count": 25,
     "metadata": {},
     "output_type": "execute_result"
    },
    {
     "data": {
      "image/png": "[encoded data removed]",
      "text/plain": [
       "<Figure size 432x288 with 1 Axes>"
      ]
     },
     "metadata": {
      "needs_background": "light"
     },
     "output_type": "display_data"
    }
   ],
   "source": [
    "from sklearn.tree import DecisionTreeRegressor\n",
    "from sklearn.metrics import mean_squared_error\n",
    "\n",
    "model = LeastAbsDeviationGBM(booster=DecisionTreeRegressor(max_depth=2, criterion='squared_error'),\n",
    "                             n_boost=60,\n",
    "                             X_test=X_test,\n",
    "                             y_test=y_test)\n",
    "\n",
    "model.fit(X_train, y_train)\n",
    "\n",
    "train_error = mean_squared_error(y_train, model.predict(X_train))\n",
    "test_error = mean_squared_error(y_test, model.predict(X_test))\n",
    "\n",
    "print(f'Train MSE:    {train_error}')\n",
    "print(f'Test MSE:     {test_error}')\n",
    "print(f'Traing Time:  {model.training_time} seconds')\n",
    "\n",
    "fig, ax = plt.subplots()\n",
    "ax.plot(range(len(model.training_loss)), model.training_loss, marker='o', color='gray', label='train')\n",
    "ax.plot(range(len(model.test_loss)), model.test_loss, marker='o', color='red', label='test')\n",
    "ax.set_ylabel('Mean Squared Error')\n",
    "ax.set_xlabel('Number of Rounds')\n",
    "plt.legend()"
   ]
  },
  {
   "cell_type": "markdown",
   "id": "48dec8e9-c6ce-4fd2-9fea-9efe1d31605c",
   "metadata": {},
   "source": [
    "A few points to consider from the above implementation, is that we had to pick a constant step size (could still be dynamic) for the prediction step. But we can't calculate this without labeled data (the loss requires a label to evaluate)."
   ]
  },
  {
   "cell_type": "markdown",
   "id": "42138d99-282d-4088-8453-6bac7212df90",
   "metadata": {},
   "source": [
    "> Here we consider the special case where each base learner is an J-terminal node regression tree. Each regression tree model itself the has additive form:\n",
    ">\n",
    "> $h(x; \\{b_j, R_j\\}_1^J) = \\sum_j^J b_j1 (x \\in R_j)$\n",
    "\n",
    "We have already been doing this, we have been choosing our base learners to be CART (classification and regression trees) models. In fact, CART (classification and regression trees) were invented by Jerome Friedman. This <a href=\"https://www.youtube.com/watch?v=8hupHmBVvb0\">video</a> is short neat history by Friedman himself on how he invented CART. When we arrive at the last node with all these features, we take all the labels associated with the training examples in that region--and we take the average of them.\n",
    "\n",
    "What are the parameters of this model? Well it's a collection of the splitting variables and the split values themselves. We can calculate the information storage of this model. Let's say we have p features. Well, the number of distinct representations is given by:\n",
    "\n",
    "$2^b = p$ where $b$ is the number of bits we need and $p$ is all the possible features we might have. Solving:\n",
    "\n",
    "$b = log_2(p)$. Now let's store each split value as a float. This requires 32 bits. So for a given node, we have:\n",
    "\n",
    "$\\text{number of bits} = 32 * log_2(p)$\n",
    "\n",
    "But how many nodes? Assuming each branch leads to a total depth, we get: \n",
    "\n",
    "$\\text{bits(p, max_depth)} = 32 * log_2(p) * 2^{\\text{max_depth}}$"
   ]
  },
  {
   "cell_type": "markdown",
   "id": "3528ecbb-d012-4582-9620-89a568d8fab8",
   "metadata": {},
   "source": [
    "> <i>Here $\\{R_j\\}_1^J$ are disjoint regions that collectively cover the space of all joint values of the predictor variables $\\bf{x}$. These regions are represented by the terminal nodes of the corresponding tree. The indicator function 1(.) has the value 1 if its argument is true, and zero otherwise.. The \"paramaters\" of this base learner (15) are the coefficients $\\{b_j\\}_1^J$, and the quantities that define the boundaries of the regions $\\{R_j\\}_1^J$. These are the splitting variables and the values of those variables that represent the splits at the nonterminal nodes of the tree. Because the regions are disjoint, (15) is equivalent to the prediction rule: if $x \\in R_j$ then $h(x) = b_j$.</i>"
   ]
  },
  {
   "cell_type": "markdown",
   "id": "49716254-7d78-4c55-80d8-22a34d6d71bf",
   "metadata": {},
   "source": [
    "The tree creates non-overlapping regions in feature space. Each feature vector gets mapped to a distinct region. And the prediction will be an average all the labels in that region (as defined by the training data). So we will end up with an equation like:\n",
    "\n",
    "$F_m(x) = F_{m-1}(x) + \\rho_m \\sum_{j=1}^J b_{jm} 1(x \\in R_{jm})$\n",
    "\n",
    "This is when the author points our that $\\rho_m$ can be \"brought in\" to the node region itself, by making a new definition of $\\gamma_{jm} = \\rho_m b_{jm}$. So we get:\n",
    "\n",
    "$F_m(x) = F_{m-1}(x) + \\sum_{j=1}^J \\gamma_{jm} 1(x \\in R_{jm})$\n",
    "\n",
    "Now, we no longer have to learn a parameter value that must work across all the leafs. What is the optimal $\\gamma_{jm}$? at a given $m$? We consult our loss function to find it:\n",
    "\n",
    "$\\vec{\\gamma_{jm}} = \\text{argmin}_{\\gamma_{jm}} \\sum_i^N L \\big( y_i, F_{m-1}(x) + \\sum_{j=1}^J \\gamma_{jm} 1(x \\in R_{jm}) \\big)$\n",
    "\n",
    "We have to calculate $J$ different values in the optimization setup. But, a key insight here is that a given example maps to a unique leaf. Thus, we can break this up into $J$ independent optimization problems:\n",
    "\n",
    "$\\gamma_{jm} = \\text{argmin}_{\\gamma} \\sum_{i \\in R_{jm}} L \\big( y_i, F_{m-1}(x) + \\gamma \\big)$\n",
    "\n",
    "Suppose the loss is $|y - F(x)|$ (least absolute deviation). Recall the solution to minimize\n",
    "\n",
    "$J(\\alpha) = \\sum_i^N |x_i - \\alpha|$ is the median value of $x$.\n",
    "\n",
    "$\\gamma_{jm} = \\text{argmin}_{\\gamma} \\sum_{i \\in R_{jm}} |y_i - F_{m-1}(x) - \\gamma |$\n",
    "\n",
    "So the 'best' leaf value is calculating the residual of each ($y - \\hat{y}$) in each leaf and takings it median. To build the tree, a regression tree is used to predict the sign of the residual (i.e., we are building a model to predict the gradient) using least squares criterion. Sklearn provides a `DecisionTreeRegressor` class with a criterion of `squared_error`.\n",
    "\n",
    "It's interesting we build the tree using a squared_error objective but then take the median values in leafs. Why? The author states:"
   ]
  },
  {
   "cell_type": "markdown",
   "id": "8c421132-ae08-4120-bdc4-60f81cb816fb",
   "metadata": {},
   "source": [
    "> <i>Squared-error loss is much more rapidly updated than mean absolute deviation when searcing for splits during the tree building process."
   ]
  },
  {
   "cell_type": "markdown",
   "id": "e818f1b2-7955-4051-a6c9-f030b0515908",
   "metadata": {},
   "source": [
    "Why is this? There are clues from https://github.com/scikit-learn/scikit-learn/issues/9553 and https://github.com/scikit-learn/scikit-learn/issues/9626. I would need to dive deeper into this to understand exactly why it's so slow.\n",
    "\n",
    "\n",
    "Also, even better if we built the tree to minimize the loss criterion directly (instead of it using its own loss function). This is optimal, but the tradeoff Friedman claims is speed. I believe XGBoost solves this problem in fact."
   ]
  },
  {
   "cell_type": "markdown",
   "id": "2ae556ef-e7f0-4bd9-9e41-23d5b73ca502",
   "metadata": {},
   "source": [
    "## 4.4 M-Regression\n",
    "\n",
    "Next, the author calculates the gradient for M-regression. The idea in M-regression, is to handle outliers explicitly. The idea seems to be as follows. When the absolute value of the residual is greater than some constant, switch to a different loss. So our loss uses a switch function. The lossed used for these outliers is:\n",
    "\n",
    "$L(y, \\hat{y}) = \\delta (|y - \\hat{y}| - \\delta/2)$\n",
    "\n",
    "Like I said before, my first exposure to M-regression was in this paper. But it's not hard to reason why this particular form is assumed. Let's calculate the loss at the critical point:\n",
    "\n",
    "$L(y, \\hat{y}) = \\delta (\\delta - \\delta/2) = \\delta^2/2$\n",
    "\n",
    "At the critical point, the loss is no different than had we used squared error loss, this is probably why it takes the form it does, so the loss remains a continous function. Let's actually plot the loss as a function of residual for original squared error loss and the M-regression loss."
   ]
  },
  {
   "cell_type": "code",
   "execution_count": 79,
   "id": "994c2d57-7f8d-440d-8a3f-a18d324c7e14",
   "metadata": {},
   "outputs": [
    {
     "data": {
      "text/plain": [
       "<matplotlib.legend.Legend at 0x1229935b0>"
      ]
     },
     "execution_count": 79,
     "metadata": {},
     "output_type": "execute_result"
    },
    {
     "data": {
      "image/png": "[encoded data removed]",
      "text/plain": [
       "<Figure size 432x288 with 1 Axes>"
      ]
     },
     "metadata": {
      "needs_background": "light"
     },
     "output_type": "display_data"
    }
   ],
   "source": [
    "fig, ax = plt.subplots()\n",
    "delta = .2\n",
    "residual = np.linspace(start=0, stop=1, num=10)\n",
    "squared_error_loss = lambda x: .5 * x**2\n",
    "huber_error_loss = lambda x: .5 * x**2\n",
    "\n",
    "def huber_loss(residual, delta):\n",
    "    \n",
    "    # Use original loss\n",
    "    loss = squared_error_loss(residual)\n",
    "    \n",
    "    # Now correct outliers\n",
    "    I = residual > delta\n",
    "    huber_loss = delta * (residual - delta/2.)\n",
    "    loss[I] = huber_loss[I]\n",
    "    \n",
    "    return loss\n",
    "\n",
    "ax.set_title('Huber Loss')\n",
    "ax.set_xlabel('|Residual|')\n",
    "ax.set_ylabel('Loss')\n",
    "ax.set_xlabel('|y - $\\hat{y}$|')\n",
    "ax.axvline(x=delta, linestyle='--', alpha=.3, color='black')\n",
    "ax.plot(residual, squared_error_loss(residual), marker='o', color='gray', label='squared error')\n",
    "ax.plot(residual, huber_loss(residual, delta), marker='o', color='blue', label='huber')\n",
    "ax.legend()"
   ]
  },
  {
   "cell_type": "markdown",
   "id": "a3e2b649-a757-4609-ba2c-f8274ea36670",
   "metadata": {},
   "source": [
    "The graphs diverge (as expected), but the Huber loss is clearly less sensitive to outliers. But here's a question: how do we pick delta? There's a simple hueristic mentioned, which is simply choosing a quantile in the distribution of absolute value of the residuals. So my guess would be to take all values above the 99% percentile to be outlier like for example. But, I think (although the authors don't mention this explicitly), you can treat this value as a hyperparameter.\n",
    "\n",
    "OK, next we need to calculate the gradient. The loss function is:\n",
    "\n",
    "if $|y - f| \\le \\delta$ then:\n",
    "\n",
    "$l(y, f) =  \\frac{1}{2} (y - f)^2$\n",
    "\n",
    "else:\n",
    "\n",
    "$l(y, f) =  \\delta(|y - f| - \\frac{\\delta}{2})$\n",
    "\n",
    "So the gradient will be:\n",
    "\n",
    "if $|y - f| \\le \\delta$ then:\n",
    "\n",
    "$y - f$\n",
    "\n",
    "else:\n",
    "\n",
    "$\\delta \\; \\text{sign}(y - \\hat{y})$ \n",
    "\n",
    "We had derived the gradient for the absolute deviation loss earlier, and so we simply add the $\\delta$ constant."
   ]
  },
  {
   "cell_type": "markdown",
   "id": "36f62c3a-0f07-463b-bd28-440dc7295519",
   "metadata": {},
   "source": [
    "## 4.5 Two-class logistic regression and classification\n",
    "\n",
    "For this loss, the author introduces the idea of \"influence\" trimming. What this means, is under this loss, there are some training examples that will basically add nothing to our loss. So they might as well be dropped. This offers some computational benefits. For example, if on a single machine with examples that can't be fit into memory, this means we might be able to only the load the batch of data that will have influence.\n",
    "\n",
    "But what I find more fascinating with influence trimming is more a fundamental question. How much of the training data do we actually need? That is, for the model and given hyperparameters, there's some minimimal amount of training examples needed to acheive the same quality of fit. In fact, Freidman mentions the concept of \"weight trimming\" in Real AdaBoost, which was able to delete 95% of examples without compromising quality. That's crazy. I would love to learn more about this."
   ]
  }
 ],
 "metadata": {
  "kernelspec": {
   "display_name": "Python 3 (ipykernel)",
   "language": "python",
   "name": "python3"
  },
  "language_info": {
   "codemirror_mode": {
    "name": "ipython",
    "version": 3
   },
   "file_extension": ".py",
   "mimetype": "text/x-python",
   "name": "python",
   "nbconvert_exporter": "python",
   "pygments_lexer": "ipython3",
   "version": "3.9.5"
  }
 },
 "nbformat": 4,
 "nbformat_minor": 5
}
